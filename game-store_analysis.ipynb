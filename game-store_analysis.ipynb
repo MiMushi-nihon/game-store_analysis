{
 "cells": [
  {
   "cell_type": "markdown",
   "metadata": {
    "toc": true
   },
   "source": [
    "<h1>Содержание<span class=\"tocSkip\"></span></h1>\n",
    "<div class=\"toc\"><ul class=\"toc-item\"><li><span><a href=\"#Описание-проекта\" data-toc-modified-id=\"Описание-проекта-1\"><span class=\"toc-item-num\">1&nbsp;&nbsp;</span>Описание проекта</a></span></li><li><span><a href=\"#Получение-информации-по-датасету\" data-toc-modified-id=\"Получение-информации-по-датасету-2\"><span class=\"toc-item-num\">2&nbsp;&nbsp;</span>Получение информации по датасету</a></span></li><li><span><a href=\"#Предобработка-данных\" data-toc-modified-id=\"Предобработка-данных-3\"><span class=\"toc-item-num\">3&nbsp;&nbsp;</span>Предобработка данных</a></span><ul class=\"toc-item\"><li><span><a href=\"#Приведение-столбцов-к-нижнему-регистру\" data-toc-modified-id=\"Приведение-столбцов-к-нижнему-регистру-3.1\"><span class=\"toc-item-num\">3.1&nbsp;&nbsp;</span>Приведение столбцов к нижнему регистру</a></span></li><li><span><a href=\"#Поиск-пропусков-в-данных\" data-toc-modified-id=\"Поиск-пропусков-в-данных-3.2\"><span class=\"toc-item-num\">3.2&nbsp;&nbsp;</span>Поиск пропусков в данных</a></span></li></ul></li><li><span><a href=\"#Работа-с-данными(исследовательский-анализ-данных)\" data-toc-modified-id=\"Работа-с-данными(исследовательский-анализ-данных)-4\"><span class=\"toc-item-num\">4&nbsp;&nbsp;</span>Работа с данными(исследовательский анализ данных)</a></span><ul class=\"toc-item\"><li><span><a href=\"#Суммарные-продажи\" data-toc-modified-id=\"Суммарные-продажи-4.1\"><span class=\"toc-item-num\">4.1&nbsp;&nbsp;</span>Суммарные продажи</a></span></li><li><span><a href=\"#Кол-во-выпускаемых-игр-в-разные-периоды\" data-toc-modified-id=\"Кол-во-выпускаемых-игр-в-разные-периоды-4.2\"><span class=\"toc-item-num\">4.2&nbsp;&nbsp;</span>Кол-во выпускаемых игр в разные периоды</a></span></li><li><span><a href=\"#Данные-за-актуальный-период\" data-toc-modified-id=\"Данные-за-актуальный-период-4.3\"><span class=\"toc-item-num\">4.3&nbsp;&nbsp;</span>Данные за актуальный период</a></span></li><li><span><a href=\"#Выбросы\" data-toc-modified-id=\"Выбросы-4.4\"><span class=\"toc-item-num\">4.4&nbsp;&nbsp;</span>Выбросы</a></span></li><li><span><a href=\"#Диаграмма-рассеивания-и-индекс-корреляции\" data-toc-modified-id=\"Диаграмма-рассеивания-и-индекс-корреляции-4.5\"><span class=\"toc-item-num\">4.5&nbsp;&nbsp;</span>Диаграмма рассеивания и индекс корреляции</a></span></li><li><span><a href=\"#Общее-распределение-игр-по-жанрам\" data-toc-modified-id=\"Общее-распределение-игр-по-жанрам-4.6\"><span class=\"toc-item-num\">4.6&nbsp;&nbsp;</span>Общее распределение игр по жанрам</a></span></li><li><span><a href=\"#Портрет-пользователя\" data-toc-modified-id=\"Портрет-пользователя-4.7\"><span class=\"toc-item-num\">4.7&nbsp;&nbsp;</span>Портрет пользователя</a></span></li><li><span><a href=\"#Формулирование-и-проверка-гипотез\" data-toc-modified-id=\"Формулирование-и-проверка-гипотез-4.8\"><span class=\"toc-item-num\">4.8&nbsp;&nbsp;</span>Формулирование и проверка гипотез</a></span></li></ul></li><li><span><a href=\"#Вывод\" data-toc-modified-id=\"Вывод-5\"><span class=\"toc-item-num\">5&nbsp;&nbsp;</span>Вывод</a></span></li><li><span><a href=\"#Чек-лист-готовности-проекта\" data-toc-modified-id=\"Чек-лист-готовности-проекта-6\"><span class=\"toc-item-num\">6&nbsp;&nbsp;</span>Чек-лист готовности проекта</a></span></li></ul></div>"
   ]
  },
  {
   "cell_type": "markdown",
   "metadata": {},
   "source": [
    "## Описание проекта\n",
    "\n",
    "Перед нами данные интернет-магазина «Стримчик», который продает игры по всему миру, до конца 2016 года. Необходимо спланировать рекламные компании на следующий год выявив  определяющие успешность игры закономерности (оценки пользователей и экспертов, жанры игр, платформы)."
   ]
  },
  {
   "cell_type": "markdown",
   "metadata": {},
   "source": [
    "## Получение информации по датасету"
   ]
  },
  {
   "cell_type": "code",
   "execution_count": 1,
   "metadata": {},
   "outputs": [
    {
     "data": {
      "text/html": [
       "<div>\n",
       "<style scoped>\n",
       "    .dataframe tbody tr th:only-of-type {\n",
       "        vertical-align: middle;\n",
       "    }\n",
       "\n",
       "    .dataframe tbody tr th {\n",
       "        vertical-align: top;\n",
       "    }\n",
       "\n",
       "    .dataframe thead th {\n",
       "        text-align: right;\n",
       "    }\n",
       "</style>\n",
       "<table border=\"1\" class=\"dataframe\">\n",
       "  <thead>\n",
       "    <tr style=\"text-align: right;\">\n",
       "      <th></th>\n",
       "      <th>Name</th>\n",
       "      <th>Platform</th>\n",
       "      <th>Year_of_Release</th>\n",
       "      <th>Genre</th>\n",
       "      <th>NA_sales</th>\n",
       "      <th>EU_sales</th>\n",
       "      <th>JP_sales</th>\n",
       "      <th>Other_sales</th>\n",
       "      <th>Critic_Score</th>\n",
       "      <th>User_Score</th>\n",
       "      <th>Rating</th>\n",
       "    </tr>\n",
       "  </thead>\n",
       "  <tbody>\n",
       "    <tr>\n",
       "      <td>0</td>\n",
       "      <td>Wii Sports</td>\n",
       "      <td>Wii</td>\n",
       "      <td>2006.0</td>\n",
       "      <td>Sports</td>\n",
       "      <td>41.36</td>\n",
       "      <td>28.96</td>\n",
       "      <td>3.77</td>\n",
       "      <td>8.45</td>\n",
       "      <td>76.0</td>\n",
       "      <td>8</td>\n",
       "      <td>E</td>\n",
       "    </tr>\n",
       "    <tr>\n",
       "      <td>1</td>\n",
       "      <td>Super Mario Bros.</td>\n",
       "      <td>NES</td>\n",
       "      <td>1985.0</td>\n",
       "      <td>Platform</td>\n",
       "      <td>29.08</td>\n",
       "      <td>3.58</td>\n",
       "      <td>6.81</td>\n",
       "      <td>0.77</td>\n",
       "      <td>NaN</td>\n",
       "      <td>NaN</td>\n",
       "      <td>NaN</td>\n",
       "    </tr>\n",
       "    <tr>\n",
       "      <td>2</td>\n",
       "      <td>Mario Kart Wii</td>\n",
       "      <td>Wii</td>\n",
       "      <td>2008.0</td>\n",
       "      <td>Racing</td>\n",
       "      <td>15.68</td>\n",
       "      <td>12.76</td>\n",
       "      <td>3.79</td>\n",
       "      <td>3.29</td>\n",
       "      <td>82.0</td>\n",
       "      <td>8.3</td>\n",
       "      <td>E</td>\n",
       "    </tr>\n",
       "    <tr>\n",
       "      <td>3</td>\n",
       "      <td>Wii Sports Resort</td>\n",
       "      <td>Wii</td>\n",
       "      <td>2009.0</td>\n",
       "      <td>Sports</td>\n",
       "      <td>15.61</td>\n",
       "      <td>10.93</td>\n",
       "      <td>3.28</td>\n",
       "      <td>2.95</td>\n",
       "      <td>80.0</td>\n",
       "      <td>8</td>\n",
       "      <td>E</td>\n",
       "    </tr>\n",
       "    <tr>\n",
       "      <td>4</td>\n",
       "      <td>Pokemon Red/Pokemon Blue</td>\n",
       "      <td>GB</td>\n",
       "      <td>1996.0</td>\n",
       "      <td>Role-Playing</td>\n",
       "      <td>11.27</td>\n",
       "      <td>8.89</td>\n",
       "      <td>10.22</td>\n",
       "      <td>1.00</td>\n",
       "      <td>NaN</td>\n",
       "      <td>NaN</td>\n",
       "      <td>NaN</td>\n",
       "    </tr>\n",
       "    <tr>\n",
       "      <td>5</td>\n",
       "      <td>Tetris</td>\n",
       "      <td>GB</td>\n",
       "      <td>1989.0</td>\n",
       "      <td>Puzzle</td>\n",
       "      <td>23.20</td>\n",
       "      <td>2.26</td>\n",
       "      <td>4.22</td>\n",
       "      <td>0.58</td>\n",
       "      <td>NaN</td>\n",
       "      <td>NaN</td>\n",
       "      <td>NaN</td>\n",
       "    </tr>\n",
       "    <tr>\n",
       "      <td>6</td>\n",
       "      <td>New Super Mario Bros.</td>\n",
       "      <td>DS</td>\n",
       "      <td>2006.0</td>\n",
       "      <td>Platform</td>\n",
       "      <td>11.28</td>\n",
       "      <td>9.14</td>\n",
       "      <td>6.50</td>\n",
       "      <td>2.88</td>\n",
       "      <td>89.0</td>\n",
       "      <td>8.5</td>\n",
       "      <td>E</td>\n",
       "    </tr>\n",
       "    <tr>\n",
       "      <td>7</td>\n",
       "      <td>Wii Play</td>\n",
       "      <td>Wii</td>\n",
       "      <td>2006.0</td>\n",
       "      <td>Misc</td>\n",
       "      <td>13.96</td>\n",
       "      <td>9.18</td>\n",
       "      <td>2.93</td>\n",
       "      <td>2.84</td>\n",
       "      <td>58.0</td>\n",
       "      <td>6.6</td>\n",
       "      <td>E</td>\n",
       "    </tr>\n",
       "    <tr>\n",
       "      <td>8</td>\n",
       "      <td>New Super Mario Bros. Wii</td>\n",
       "      <td>Wii</td>\n",
       "      <td>2009.0</td>\n",
       "      <td>Platform</td>\n",
       "      <td>14.44</td>\n",
       "      <td>6.94</td>\n",
       "      <td>4.70</td>\n",
       "      <td>2.24</td>\n",
       "      <td>87.0</td>\n",
       "      <td>8.4</td>\n",
       "      <td>E</td>\n",
       "    </tr>\n",
       "    <tr>\n",
       "      <td>9</td>\n",
       "      <td>Duck Hunt</td>\n",
       "      <td>NES</td>\n",
       "      <td>1984.0</td>\n",
       "      <td>Shooter</td>\n",
       "      <td>26.93</td>\n",
       "      <td>0.63</td>\n",
       "      <td>0.28</td>\n",
       "      <td>0.47</td>\n",
       "      <td>NaN</td>\n",
       "      <td>NaN</td>\n",
       "      <td>NaN</td>\n",
       "    </tr>\n",
       "    <tr>\n",
       "      <td>10</td>\n",
       "      <td>Nintendogs</td>\n",
       "      <td>DS</td>\n",
       "      <td>2005.0</td>\n",
       "      <td>Simulation</td>\n",
       "      <td>9.05</td>\n",
       "      <td>10.95</td>\n",
       "      <td>1.93</td>\n",
       "      <td>2.74</td>\n",
       "      <td>NaN</td>\n",
       "      <td>NaN</td>\n",
       "      <td>NaN</td>\n",
       "    </tr>\n",
       "    <tr>\n",
       "      <td>11</td>\n",
       "      <td>Mario Kart DS</td>\n",
       "      <td>DS</td>\n",
       "      <td>2005.0</td>\n",
       "      <td>Racing</td>\n",
       "      <td>9.71</td>\n",
       "      <td>7.47</td>\n",
       "      <td>4.13</td>\n",
       "      <td>1.90</td>\n",
       "      <td>91.0</td>\n",
       "      <td>8.6</td>\n",
       "      <td>E</td>\n",
       "    </tr>\n",
       "    <tr>\n",
       "      <td>12</td>\n",
       "      <td>Pokemon Gold/Pokemon Silver</td>\n",
       "      <td>GB</td>\n",
       "      <td>1999.0</td>\n",
       "      <td>Role-Playing</td>\n",
       "      <td>9.00</td>\n",
       "      <td>6.18</td>\n",
       "      <td>7.20</td>\n",
       "      <td>0.71</td>\n",
       "      <td>NaN</td>\n",
       "      <td>NaN</td>\n",
       "      <td>NaN</td>\n",
       "    </tr>\n",
       "    <tr>\n",
       "      <td>13</td>\n",
       "      <td>Wii Fit</td>\n",
       "      <td>Wii</td>\n",
       "      <td>2007.0</td>\n",
       "      <td>Sports</td>\n",
       "      <td>8.92</td>\n",
       "      <td>8.03</td>\n",
       "      <td>3.60</td>\n",
       "      <td>2.15</td>\n",
       "      <td>80.0</td>\n",
       "      <td>7.7</td>\n",
       "      <td>E</td>\n",
       "    </tr>\n",
       "    <tr>\n",
       "      <td>14</td>\n",
       "      <td>Kinect Adventures!</td>\n",
       "      <td>X360</td>\n",
       "      <td>2010.0</td>\n",
       "      <td>Misc</td>\n",
       "      <td>15.00</td>\n",
       "      <td>4.89</td>\n",
       "      <td>0.24</td>\n",
       "      <td>1.69</td>\n",
       "      <td>61.0</td>\n",
       "      <td>6.3</td>\n",
       "      <td>E</td>\n",
       "    </tr>\n",
       "  </tbody>\n",
       "</table>\n",
       "</div>"
      ],
      "text/plain": [
       "                           Name Platform  Year_of_Release         Genre  \\\n",
       "0                    Wii Sports      Wii           2006.0        Sports   \n",
       "1             Super Mario Bros.      NES           1985.0      Platform   \n",
       "2                Mario Kart Wii      Wii           2008.0        Racing   \n",
       "3             Wii Sports Resort      Wii           2009.0        Sports   \n",
       "4      Pokemon Red/Pokemon Blue       GB           1996.0  Role-Playing   \n",
       "5                        Tetris       GB           1989.0        Puzzle   \n",
       "6         New Super Mario Bros.       DS           2006.0      Platform   \n",
       "7                      Wii Play      Wii           2006.0          Misc   \n",
       "8     New Super Mario Bros. Wii      Wii           2009.0      Platform   \n",
       "9                     Duck Hunt      NES           1984.0       Shooter   \n",
       "10                   Nintendogs       DS           2005.0    Simulation   \n",
       "11                Mario Kart DS       DS           2005.0        Racing   \n",
       "12  Pokemon Gold/Pokemon Silver       GB           1999.0  Role-Playing   \n",
       "13                      Wii Fit      Wii           2007.0        Sports   \n",
       "14           Kinect Adventures!     X360           2010.0          Misc   \n",
       "\n",
       "    NA_sales  EU_sales  JP_sales  Other_sales  Critic_Score User_Score Rating  \n",
       "0      41.36     28.96      3.77         8.45          76.0          8      E  \n",
       "1      29.08      3.58      6.81         0.77           NaN        NaN    NaN  \n",
       "2      15.68     12.76      3.79         3.29          82.0        8.3      E  \n",
       "3      15.61     10.93      3.28         2.95          80.0          8      E  \n",
       "4      11.27      8.89     10.22         1.00           NaN        NaN    NaN  \n",
       "5      23.20      2.26      4.22         0.58           NaN        NaN    NaN  \n",
       "6      11.28      9.14      6.50         2.88          89.0        8.5      E  \n",
       "7      13.96      9.18      2.93         2.84          58.0        6.6      E  \n",
       "8      14.44      6.94      4.70         2.24          87.0        8.4      E  \n",
       "9      26.93      0.63      0.28         0.47           NaN        NaN    NaN  \n",
       "10      9.05     10.95      1.93         2.74           NaN        NaN    NaN  \n",
       "11      9.71      7.47      4.13         1.90          91.0        8.6      E  \n",
       "12      9.00      6.18      7.20         0.71           NaN        NaN    NaN  \n",
       "13      8.92      8.03      3.60         2.15          80.0        7.7      E  \n",
       "14     15.00      4.89      0.24         1.69          61.0        6.3      E  "
      ]
     },
     "metadata": {},
     "output_type": "display_data"
    },
    {
     "name": "stdout",
     "output_type": "stream",
     "text": [
      "<class 'pandas.core.frame.DataFrame'>\n",
      "RangeIndex: 16715 entries, 0 to 16714\n",
      "Data columns (total 11 columns):\n",
      "Name               16713 non-null object\n",
      "Platform           16715 non-null object\n",
      "Year_of_Release    16446 non-null float64\n",
      "Genre              16713 non-null object\n",
      "NA_sales           16715 non-null float64\n",
      "EU_sales           16715 non-null float64\n",
      "JP_sales           16715 non-null float64\n",
      "Other_sales        16715 non-null float64\n",
      "Critic_Score       8137 non-null float64\n",
      "User_Score         10014 non-null object\n",
      "Rating             9949 non-null object\n",
      "dtypes: float64(6), object(5)\n",
      "memory usage: 1.4+ MB\n"
     ]
    }
   ],
   "source": [
    "# Подключим все необходимые библиотеки для анализа набора данных и работы с ним\n",
    "import pandas as pd\n",
    "import numpy as np\n",
    "import matplotlib.pyplot as plt\n",
    "from scipy import stats as st\n",
    "import seaborn as sns \n",
    "import warnings\n",
    "# Создадим переменную для чтения датасета\n",
    "games = pd.read_csv('/datasets/games.csv')\n",
    "display(games.head(15))\n",
    "# Посмотрим на общую информацию по набору данных\n",
    "games.info()"
   ]
  },
  {
   "cell_type": "markdown",
   "metadata": {},
   "source": [
    "Используя метод **info()** для набора данных, мы увидимли, что больше всего пропусков в данных допущено в 3-х столбцах **(Critic_Score,User_Score,Rating)**, так же необходимо привести все к единому регистру(нижнему)."
   ]
  },
  {
   "cell_type": "markdown",
   "metadata": {},
   "source": [
    "## Предобработка данных"
   ]
  },
  {
   "cell_type": "markdown",
   "metadata": {},
   "source": [
    "### Приведение столбцов к нижнему регистру "
   ]
  },
  {
   "cell_type": "code",
   "execution_count": 2,
   "metadata": {},
   "outputs": [
    {
     "data": {
      "text/html": [
       "<div>\n",
       "<style scoped>\n",
       "    .dataframe tbody tr th:only-of-type {\n",
       "        vertical-align: middle;\n",
       "    }\n",
       "\n",
       "    .dataframe tbody tr th {\n",
       "        vertical-align: top;\n",
       "    }\n",
       "\n",
       "    .dataframe thead th {\n",
       "        text-align: right;\n",
       "    }\n",
       "</style>\n",
       "<table border=\"1\" class=\"dataframe\">\n",
       "  <thead>\n",
       "    <tr style=\"text-align: right;\">\n",
       "      <th></th>\n",
       "      <th>name</th>\n",
       "      <th>platform</th>\n",
       "      <th>year_of_release</th>\n",
       "      <th>genre</th>\n",
       "      <th>na_sales</th>\n",
       "      <th>eu_sales</th>\n",
       "      <th>jp_sales</th>\n",
       "      <th>other_sales</th>\n",
       "      <th>critic_score</th>\n",
       "      <th>user_score</th>\n",
       "      <th>rating</th>\n",
       "    </tr>\n",
       "  </thead>\n",
       "  <tbody>\n",
       "    <tr>\n",
       "      <td>0</td>\n",
       "      <td>Wii Sports</td>\n",
       "      <td>Wii</td>\n",
       "      <td>2006.0</td>\n",
       "      <td>Sports</td>\n",
       "      <td>41.36</td>\n",
       "      <td>28.96</td>\n",
       "      <td>3.77</td>\n",
       "      <td>8.45</td>\n",
       "      <td>76.0</td>\n",
       "      <td>8</td>\n",
       "      <td>E</td>\n",
       "    </tr>\n",
       "    <tr>\n",
       "      <td>1</td>\n",
       "      <td>Super Mario Bros.</td>\n",
       "      <td>NES</td>\n",
       "      <td>1985.0</td>\n",
       "      <td>Platform</td>\n",
       "      <td>29.08</td>\n",
       "      <td>3.58</td>\n",
       "      <td>6.81</td>\n",
       "      <td>0.77</td>\n",
       "      <td>NaN</td>\n",
       "      <td>NaN</td>\n",
       "      <td>NaN</td>\n",
       "    </tr>\n",
       "    <tr>\n",
       "      <td>2</td>\n",
       "      <td>Mario Kart Wii</td>\n",
       "      <td>Wii</td>\n",
       "      <td>2008.0</td>\n",
       "      <td>Racing</td>\n",
       "      <td>15.68</td>\n",
       "      <td>12.76</td>\n",
       "      <td>3.79</td>\n",
       "      <td>3.29</td>\n",
       "      <td>82.0</td>\n",
       "      <td>8.3</td>\n",
       "      <td>E</td>\n",
       "    </tr>\n",
       "    <tr>\n",
       "      <td>3</td>\n",
       "      <td>Wii Sports Resort</td>\n",
       "      <td>Wii</td>\n",
       "      <td>2009.0</td>\n",
       "      <td>Sports</td>\n",
       "      <td>15.61</td>\n",
       "      <td>10.93</td>\n",
       "      <td>3.28</td>\n",
       "      <td>2.95</td>\n",
       "      <td>80.0</td>\n",
       "      <td>8</td>\n",
       "      <td>E</td>\n",
       "    </tr>\n",
       "    <tr>\n",
       "      <td>4</td>\n",
       "      <td>Pokemon Red/Pokemon Blue</td>\n",
       "      <td>GB</td>\n",
       "      <td>1996.0</td>\n",
       "      <td>Role-Playing</td>\n",
       "      <td>11.27</td>\n",
       "      <td>8.89</td>\n",
       "      <td>10.22</td>\n",
       "      <td>1.00</td>\n",
       "      <td>NaN</td>\n",
       "      <td>NaN</td>\n",
       "      <td>NaN</td>\n",
       "    </tr>\n",
       "    <tr>\n",
       "      <td>5</td>\n",
       "      <td>Tetris</td>\n",
       "      <td>GB</td>\n",
       "      <td>1989.0</td>\n",
       "      <td>Puzzle</td>\n",
       "      <td>23.20</td>\n",
       "      <td>2.26</td>\n",
       "      <td>4.22</td>\n",
       "      <td>0.58</td>\n",
       "      <td>NaN</td>\n",
       "      <td>NaN</td>\n",
       "      <td>NaN</td>\n",
       "    </tr>\n",
       "    <tr>\n",
       "      <td>6</td>\n",
       "      <td>New Super Mario Bros.</td>\n",
       "      <td>DS</td>\n",
       "      <td>2006.0</td>\n",
       "      <td>Platform</td>\n",
       "      <td>11.28</td>\n",
       "      <td>9.14</td>\n",
       "      <td>6.50</td>\n",
       "      <td>2.88</td>\n",
       "      <td>89.0</td>\n",
       "      <td>8.5</td>\n",
       "      <td>E</td>\n",
       "    </tr>\n",
       "    <tr>\n",
       "      <td>7</td>\n",
       "      <td>Wii Play</td>\n",
       "      <td>Wii</td>\n",
       "      <td>2006.0</td>\n",
       "      <td>Misc</td>\n",
       "      <td>13.96</td>\n",
       "      <td>9.18</td>\n",
       "      <td>2.93</td>\n",
       "      <td>2.84</td>\n",
       "      <td>58.0</td>\n",
       "      <td>6.6</td>\n",
       "      <td>E</td>\n",
       "    </tr>\n",
       "    <tr>\n",
       "      <td>8</td>\n",
       "      <td>New Super Mario Bros. Wii</td>\n",
       "      <td>Wii</td>\n",
       "      <td>2009.0</td>\n",
       "      <td>Platform</td>\n",
       "      <td>14.44</td>\n",
       "      <td>6.94</td>\n",
       "      <td>4.70</td>\n",
       "      <td>2.24</td>\n",
       "      <td>87.0</td>\n",
       "      <td>8.4</td>\n",
       "      <td>E</td>\n",
       "    </tr>\n",
       "    <tr>\n",
       "      <td>9</td>\n",
       "      <td>Duck Hunt</td>\n",
       "      <td>NES</td>\n",
       "      <td>1984.0</td>\n",
       "      <td>Shooter</td>\n",
       "      <td>26.93</td>\n",
       "      <td>0.63</td>\n",
       "      <td>0.28</td>\n",
       "      <td>0.47</td>\n",
       "      <td>NaN</td>\n",
       "      <td>NaN</td>\n",
       "      <td>NaN</td>\n",
       "    </tr>\n",
       "  </tbody>\n",
       "</table>\n",
       "</div>"
      ],
      "text/plain": [
       "                        name platform  year_of_release         genre  \\\n",
       "0                 Wii Sports      Wii           2006.0        Sports   \n",
       "1          Super Mario Bros.      NES           1985.0      Platform   \n",
       "2             Mario Kart Wii      Wii           2008.0        Racing   \n",
       "3          Wii Sports Resort      Wii           2009.0        Sports   \n",
       "4   Pokemon Red/Pokemon Blue       GB           1996.0  Role-Playing   \n",
       "5                     Tetris       GB           1989.0        Puzzle   \n",
       "6      New Super Mario Bros.       DS           2006.0      Platform   \n",
       "7                   Wii Play      Wii           2006.0          Misc   \n",
       "8  New Super Mario Bros. Wii      Wii           2009.0      Platform   \n",
       "9                  Duck Hunt      NES           1984.0       Shooter   \n",
       "\n",
       "   na_sales  eu_sales  jp_sales  other_sales  critic_score user_score rating  \n",
       "0     41.36     28.96      3.77         8.45          76.0          8      E  \n",
       "1     29.08      3.58      6.81         0.77           NaN        NaN    NaN  \n",
       "2     15.68     12.76      3.79         3.29          82.0        8.3      E  \n",
       "3     15.61     10.93      3.28         2.95          80.0          8      E  \n",
       "4     11.27      8.89     10.22         1.00           NaN        NaN    NaN  \n",
       "5     23.20      2.26      4.22         0.58           NaN        NaN    NaN  \n",
       "6     11.28      9.14      6.50         2.88          89.0        8.5      E  \n",
       "7     13.96      9.18      2.93         2.84          58.0        6.6      E  \n",
       "8     14.44      6.94      4.70         2.24          87.0        8.4      E  \n",
       "9     26.93      0.63      0.28         0.47           NaN        NaN    NaN  "
      ]
     },
     "metadata": {},
     "output_type": "display_data"
    }
   ],
   "source": [
    "#Приведем название всех столбцов датасета к единому нижнему регистру\n",
    "#games = games.rename(columns={\n",
    " #   'Name' : 'name','Platform' : 'platform','Year_of_Release' : 'year_of_release','Genre' : 'genre',\n",
    " #   'NA_sales' : 'na_sales','EU_sales' : 'eu_sales','JP_sales' : 'jp_sales','Other_sales' : 'other_sales',\n",
    " #   'Critic_Score' : 'critic_score','User_Score' : 'user_score','Rating' : 'rating'\n",
    "#})\n",
    "games.columns = games.columns.str.lower()\n",
    "display(games.head(10))"
   ]
  },
  {
   "cell_type": "markdown",
   "metadata": {},
   "source": [
    "Прежде чем приступить к изменению типов даннных, необходимо взглянуть на пропуски в данных(иначе в некоторых случаяхне получится этого произвести) "
   ]
  },
  {
   "cell_type": "markdown",
   "metadata": {},
   "source": [
    "### Поиск пропусков в данных"
   ]
  },
  {
   "cell_type": "code",
   "execution_count": 3,
   "metadata": {},
   "outputs": [
    {
     "name": "stdout",
     "output_type": "stream",
     "text": [
      "name - 0%\n",
      "platform - 0%\n",
      "year_of_release - 2%\n",
      "genre - 0%\n",
      "na_sales - 0%\n",
      "eu_sales - 0%\n",
      "jp_sales - 0%\n",
      "other_sales - 0%\n",
      "critic_score - 51%\n",
      "user_score - 40%\n",
      "rating - 40%\n"
     ]
    },
    {
     "data": {
      "image/png": "[encoded data removed]",
      "text/plain": [
       "<Figure size 432x288 with 2 Axes>"
      ]
     },
     "metadata": {
      "needs_background": "light"
     },
     "output_type": "display_data"
    }
   ],
   "source": [
    "sns.heatmap(games.isnull(),cmap='Accent')\n",
    "# Для большей уверенности, можно посмотреть в процентном отношении пропусков в наборе данных\n",
    "for col in games.columns:\n",
    "    pct_missing = np.mean(games[col].isnull())\n",
    "    print('{} - {}%'.format(col, round(pct_missing*100)))"
   ]
  },
  {
   "cell_type": "markdown",
   "metadata": {},
   "source": [
    "Из полученных данных, можем сделать следующий вывыод, что отсуствие данных в столбце год_выпуска составляет всего 2 %, что не так уж и много,поэтому эти данные можно исключить из таблицы, а вот там, где пропуски составляют от 40 % и более, необходимо обработать  эти данные далее.В столбце *user_score* есть не только пропуски,но и специфическая запись *tbd*(to be determined - подлежит уточнению), которую нееобходимотак же преобразовать."
   ]
  },
  {
   "cell_type": "code",
   "execution_count": 4,
   "metadata": {},
   "outputs": [
    {
     "name": "stdout",
     "output_type": "stream",
     "text": [
      "name                  0\n",
      "platform              0\n",
      "year_of_release       0\n",
      "genre                 0\n",
      "na_sales              0\n",
      "eu_sales              0\n",
      "jp_sales              0\n",
      "other_sales           0\n",
      "critic_score       8461\n",
      "user_score         6605\n",
      "rating             6676\n",
      "dtype: int64\n"
     ]
    },
    {
     "data": {
      "text/plain": [
       "array([8. , nan, 8.3, 8.5, 6.6, 8.4, 8.6, 7.7, 6.3, 7.4, 8.2, 9. , 7.9,\n",
       "       8.1, 8.7, 7.1, 3.4, 5.3, 4.8, 3.2, 8.9, 6.4, 7.8, 7.5, 2.6, 7.2,\n",
       "       9.2, 7. , 7.3, 4.3, 7.6, 5.7, 5. , 9.1, 6.5, 8.8, 6.9, 9.4, 6.8,\n",
       "       6.1, 6.7, 5.4, 4. , 4.9, 4.5, 9.3, 6.2, 4.2, 6. , 3.7, 4.1, 5.8,\n",
       "       5.6, 5.5, 4.4, 4.6, 5.9, 3.9, 3.1, 2.9, 5.2, 3.3, 4.7, 5.1, 3.5,\n",
       "       2.5, 1.9, 3. , 2.7, 2.2, 2. , 9.5, 2.1, 3.6, 2.8, 1.8, 3.8, 0. ,\n",
       "       1.6, 9.6, 2.4, 1.7, 1.1, 0.3, 1.5, 0.7, 1.2, 2.3, 0.5, 1.3, 0.2,\n",
       "       0.6, 1.4, 0.9, 1. , 9.7])"
      ]
     },
     "metadata": {},
     "output_type": "display_data"
    },
    {
     "data": {
      "text/plain": [
       "array(['E', 'tbd', 'M', 'T', 'E10+', 'K-A', 'AO', 'EC', 'RP'],\n",
       "      dtype=object)"
      ]
     },
     "metadata": {},
     "output_type": "display_data"
    },
    {
     "name": "stdout",
     "output_type": "stream",
     "text": [
      "<class 'pandas.core.frame.DataFrame'>\n",
      "Int64Index: 16444 entries, 0 to 16714\n",
      "Data columns (total 11 columns):\n",
      "name               16444 non-null object\n",
      "platform           16444 non-null object\n",
      "year_of_release    16444 non-null int64\n",
      "genre              16444 non-null object\n",
      "na_sales           16444 non-null float64\n",
      "eu_sales           16444 non-null float64\n",
      "jp_sales           16444 non-null float64\n",
      "other_sales        16444 non-null float64\n",
      "critic_score       7983 non-null float64\n",
      "user_score         7463 non-null float64\n",
      "rating             16444 non-null object\n",
      "dtypes: float64(6), int64(1), object(4)\n",
      "memory usage: 1.5+ MB\n"
     ]
    }
   ],
   "source": [
    "#Отбросим лишние значения, опираясь на вывод сделанный выше\n",
    "games = games.dropna(subset=['year_of_release'])\n",
    "games = games.dropna(subset=['name'])\n",
    "games = games.dropna(subset=['genre'])\n",
    "print(games.isna().sum())\n",
    "#Преобразуем специфическое значение в привычное нам значение\n",
    "games.loc[games['user_score'] == 'tbd', 'user_score'] = float('nan')\n",
    "games['user_score'] = games['user_score'].astype('float')\n",
    "display(games['user_score'].unique())\n",
    "#Заполним пропуски в *rating* небольшой заглушкой,так как скорее всего этот параметр будет категориальным\n",
    "games['rating'] = games['rating'].fillna('tbd')\n",
    "display(games['rating'].unique())\n",
    "#Преобразуем столбец  *year_of_release* в другой тип данных\n",
    "games['year_of_release'] = games['year_of_release'].astype(int)\n",
    "games.info()"
   ]
  },
  {
   "cell_type": "markdown",
   "metadata": {},
   "source": [
    "В качестве вывода можно сказать, что пропуски в scores заполнять не надо - любое заполнение исказит результаты корреляционного анализа и стат-тестов. Пропуски в rating можно заполнить заглушкой потому, что это категориальная переменная. Пропуски в годах и названиях игр заполнять не нужно - их не более 2%, можно просто отфильтровать эти строки из набора данных(что и было сделано)."
   ]
  },
  {
   "cell_type": "markdown",
   "metadata": {},
   "source": [
    "## Работа с данными(исследовательский анализ данных)"
   ]
  },
  {
   "cell_type": "markdown",
   "metadata": {},
   "source": [
    "### Суммарные продажи "
   ]
  },
  {
   "cell_type": "code",
   "execution_count": 5,
   "metadata": {},
   "outputs": [
    {
     "data": {
      "text/html": [
       "<div>\n",
       "<style scoped>\n",
       "    .dataframe tbody tr th:only-of-type {\n",
       "        vertical-align: middle;\n",
       "    }\n",
       "\n",
       "    .dataframe tbody tr th {\n",
       "        vertical-align: top;\n",
       "    }\n",
       "\n",
       "    .dataframe thead th {\n",
       "        text-align: right;\n",
       "    }\n",
       "</style>\n",
       "<table border=\"1\" class=\"dataframe\">\n",
       "  <thead>\n",
       "    <tr style=\"text-align: right;\">\n",
       "      <th></th>\n",
       "      <th>name</th>\n",
       "      <th>platform</th>\n",
       "      <th>year_of_release</th>\n",
       "      <th>genre</th>\n",
       "      <th>na_sales</th>\n",
       "      <th>eu_sales</th>\n",
       "      <th>jp_sales</th>\n",
       "      <th>other_sales</th>\n",
       "      <th>critic_score</th>\n",
       "      <th>user_score</th>\n",
       "      <th>rating</th>\n",
       "      <th>total_sales</th>\n",
       "    </tr>\n",
       "  </thead>\n",
       "  <tbody>\n",
       "    <tr>\n",
       "      <td>0</td>\n",
       "      <td>Wii Sports</td>\n",
       "      <td>Wii</td>\n",
       "      <td>2006</td>\n",
       "      <td>Sports</td>\n",
       "      <td>41.36</td>\n",
       "      <td>28.96</td>\n",
       "      <td>3.77</td>\n",
       "      <td>8.45</td>\n",
       "      <td>76.0</td>\n",
       "      <td>8.0</td>\n",
       "      <td>E</td>\n",
       "      <td>82.54</td>\n",
       "    </tr>\n",
       "    <tr>\n",
       "      <td>1</td>\n",
       "      <td>Super Mario Bros.</td>\n",
       "      <td>NES</td>\n",
       "      <td>1985</td>\n",
       "      <td>Platform</td>\n",
       "      <td>29.08</td>\n",
       "      <td>3.58</td>\n",
       "      <td>6.81</td>\n",
       "      <td>0.77</td>\n",
       "      <td>NaN</td>\n",
       "      <td>NaN</td>\n",
       "      <td>tbd</td>\n",
       "      <td>40.24</td>\n",
       "    </tr>\n",
       "    <tr>\n",
       "      <td>2</td>\n",
       "      <td>Mario Kart Wii</td>\n",
       "      <td>Wii</td>\n",
       "      <td>2008</td>\n",
       "      <td>Racing</td>\n",
       "      <td>15.68</td>\n",
       "      <td>12.76</td>\n",
       "      <td>3.79</td>\n",
       "      <td>3.29</td>\n",
       "      <td>82.0</td>\n",
       "      <td>8.3</td>\n",
       "      <td>E</td>\n",
       "      <td>35.52</td>\n",
       "    </tr>\n",
       "    <tr>\n",
       "      <td>3</td>\n",
       "      <td>Wii Sports Resort</td>\n",
       "      <td>Wii</td>\n",
       "      <td>2009</td>\n",
       "      <td>Sports</td>\n",
       "      <td>15.61</td>\n",
       "      <td>10.93</td>\n",
       "      <td>3.28</td>\n",
       "      <td>2.95</td>\n",
       "      <td>80.0</td>\n",
       "      <td>8.0</td>\n",
       "      <td>E</td>\n",
       "      <td>32.77</td>\n",
       "    </tr>\n",
       "    <tr>\n",
       "      <td>4</td>\n",
       "      <td>Pokemon Red/Pokemon Blue</td>\n",
       "      <td>GB</td>\n",
       "      <td>1996</td>\n",
       "      <td>Role-Playing</td>\n",
       "      <td>11.27</td>\n",
       "      <td>8.89</td>\n",
       "      <td>10.22</td>\n",
       "      <td>1.00</td>\n",
       "      <td>NaN</td>\n",
       "      <td>NaN</td>\n",
       "      <td>tbd</td>\n",
       "      <td>31.38</td>\n",
       "    </tr>\n",
       "  </tbody>\n",
       "</table>\n",
       "</div>"
      ],
      "text/plain": [
       "                       name platform  year_of_release         genre  na_sales  \\\n",
       "0                Wii Sports      Wii             2006        Sports     41.36   \n",
       "1         Super Mario Bros.      NES             1985      Platform     29.08   \n",
       "2            Mario Kart Wii      Wii             2008        Racing     15.68   \n",
       "3         Wii Sports Resort      Wii             2009        Sports     15.61   \n",
       "4  Pokemon Red/Pokemon Blue       GB             1996  Role-Playing     11.27   \n",
       "\n",
       "   eu_sales  jp_sales  other_sales  critic_score  user_score rating  \\\n",
       "0     28.96      3.77         8.45          76.0         8.0      E   \n",
       "1      3.58      6.81         0.77           NaN         NaN    tbd   \n",
       "2     12.76      3.79         3.29          82.0         8.3      E   \n",
       "3     10.93      3.28         2.95          80.0         8.0      E   \n",
       "4      8.89     10.22         1.00           NaN         NaN    tbd   \n",
       "\n",
       "   total_sales  \n",
       "0        82.54  \n",
       "1        40.24  \n",
       "2        35.52  \n",
       "3        32.77  \n",
       "4        31.38  "
      ]
     },
     "metadata": {},
     "output_type": "display_data"
    }
   ],
   "source": [
    "#Посчитаем суммарные продажи по всем регионам\n",
    "games['total_sales'] = games['na_sales'] + games['eu_sales'] + games['jp_sales'] + games['other_sales']\n",
    "display(games.head())\n",
    "#sum_sales_games_na = games.groupby('year_of_release').agg({'na_sales' : 'sum'}).reset_index()\n",
    "#display(sum_sales_games_na)\n",
    "#display(games.head(10))"
   ]
  },
  {
   "cell_type": "markdown",
   "metadata": {},
   "source": [
    "### Кол-во выпускаемых игр в разные периоды"
   ]
  },
  {
   "cell_type": "code",
   "execution_count": 6,
   "metadata": {},
   "outputs": [
    {
     "data": {
      "text/html": [
       "<div>\n",
       "<style scoped>\n",
       "    .dataframe tbody tr th:only-of-type {\n",
       "        vertical-align: middle;\n",
       "    }\n",
       "\n",
       "    .dataframe tbody tr th {\n",
       "        vertical-align: top;\n",
       "    }\n",
       "\n",
       "    .dataframe thead th {\n",
       "        text-align: right;\n",
       "    }\n",
       "</style>\n",
       "<table border=\"1\" class=\"dataframe\">\n",
       "  <thead>\n",
       "    <tr style=\"text-align: right;\">\n",
       "      <th></th>\n",
       "      <th>year_of_release</th>\n",
       "      <th>name</th>\n",
       "    </tr>\n",
       "  </thead>\n",
       "  <tbody>\n",
       "    <tr>\n",
       "      <td>0</td>\n",
       "      <td>1980</td>\n",
       "      <td>9</td>\n",
       "    </tr>\n",
       "    <tr>\n",
       "      <td>1</td>\n",
       "      <td>1981</td>\n",
       "      <td>46</td>\n",
       "    </tr>\n",
       "    <tr>\n",
       "      <td>2</td>\n",
       "      <td>1982</td>\n",
       "      <td>36</td>\n",
       "    </tr>\n",
       "    <tr>\n",
       "      <td>3</td>\n",
       "      <td>1983</td>\n",
       "      <td>17</td>\n",
       "    </tr>\n",
       "    <tr>\n",
       "      <td>4</td>\n",
       "      <td>1984</td>\n",
       "      <td>14</td>\n",
       "    </tr>\n",
       "    <tr>\n",
       "      <td>5</td>\n",
       "      <td>1985</td>\n",
       "      <td>14</td>\n",
       "    </tr>\n",
       "    <tr>\n",
       "      <td>6</td>\n",
       "      <td>1986</td>\n",
       "      <td>21</td>\n",
       "    </tr>\n",
       "    <tr>\n",
       "      <td>7</td>\n",
       "      <td>1987</td>\n",
       "      <td>16</td>\n",
       "    </tr>\n",
       "    <tr>\n",
       "      <td>8</td>\n",
       "      <td>1988</td>\n",
       "      <td>15</td>\n",
       "    </tr>\n",
       "    <tr>\n",
       "      <td>9</td>\n",
       "      <td>1989</td>\n",
       "      <td>17</td>\n",
       "    </tr>\n",
       "    <tr>\n",
       "      <td>10</td>\n",
       "      <td>1990</td>\n",
       "      <td>16</td>\n",
       "    </tr>\n",
       "    <tr>\n",
       "      <td>11</td>\n",
       "      <td>1991</td>\n",
       "      <td>41</td>\n",
       "    </tr>\n",
       "    <tr>\n",
       "      <td>12</td>\n",
       "      <td>1992</td>\n",
       "      <td>43</td>\n",
       "    </tr>\n",
       "    <tr>\n",
       "      <td>13</td>\n",
       "      <td>1993</td>\n",
       "      <td>60</td>\n",
       "    </tr>\n",
       "    <tr>\n",
       "      <td>14</td>\n",
       "      <td>1994</td>\n",
       "      <td>121</td>\n",
       "    </tr>\n",
       "    <tr>\n",
       "      <td>15</td>\n",
       "      <td>1995</td>\n",
       "      <td>219</td>\n",
       "    </tr>\n",
       "    <tr>\n",
       "      <td>16</td>\n",
       "      <td>1996</td>\n",
       "      <td>263</td>\n",
       "    </tr>\n",
       "    <tr>\n",
       "      <td>17</td>\n",
       "      <td>1997</td>\n",
       "      <td>289</td>\n",
       "    </tr>\n",
       "    <tr>\n",
       "      <td>18</td>\n",
       "      <td>1998</td>\n",
       "      <td>379</td>\n",
       "    </tr>\n",
       "    <tr>\n",
       "      <td>19</td>\n",
       "      <td>1999</td>\n",
       "      <td>338</td>\n",
       "    </tr>\n",
       "    <tr>\n",
       "      <td>20</td>\n",
       "      <td>2000</td>\n",
       "      <td>350</td>\n",
       "    </tr>\n",
       "    <tr>\n",
       "      <td>21</td>\n",
       "      <td>2001</td>\n",
       "      <td>482</td>\n",
       "    </tr>\n",
       "    <tr>\n",
       "      <td>22</td>\n",
       "      <td>2002</td>\n",
       "      <td>829</td>\n",
       "    </tr>\n",
       "    <tr>\n",
       "      <td>23</td>\n",
       "      <td>2003</td>\n",
       "      <td>775</td>\n",
       "    </tr>\n",
       "    <tr>\n",
       "      <td>24</td>\n",
       "      <td>2004</td>\n",
       "      <td>762</td>\n",
       "    </tr>\n",
       "    <tr>\n",
       "      <td>25</td>\n",
       "      <td>2005</td>\n",
       "      <td>939</td>\n",
       "    </tr>\n",
       "    <tr>\n",
       "      <td>26</td>\n",
       "      <td>2006</td>\n",
       "      <td>1006</td>\n",
       "    </tr>\n",
       "    <tr>\n",
       "      <td>27</td>\n",
       "      <td>2007</td>\n",
       "      <td>1197</td>\n",
       "    </tr>\n",
       "    <tr>\n",
       "      <td>28</td>\n",
       "      <td>2008</td>\n",
       "      <td>1427</td>\n",
       "    </tr>\n",
       "    <tr>\n",
       "      <td>29</td>\n",
       "      <td>2009</td>\n",
       "      <td>1426</td>\n",
       "    </tr>\n",
       "    <tr>\n",
       "      <td>30</td>\n",
       "      <td>2010</td>\n",
       "      <td>1255</td>\n",
       "    </tr>\n",
       "    <tr>\n",
       "      <td>31</td>\n",
       "      <td>2011</td>\n",
       "      <td>1136</td>\n",
       "    </tr>\n",
       "    <tr>\n",
       "      <td>32</td>\n",
       "      <td>2012</td>\n",
       "      <td>653</td>\n",
       "    </tr>\n",
       "    <tr>\n",
       "      <td>33</td>\n",
       "      <td>2013</td>\n",
       "      <td>544</td>\n",
       "    </tr>\n",
       "    <tr>\n",
       "      <td>34</td>\n",
       "      <td>2014</td>\n",
       "      <td>581</td>\n",
       "    </tr>\n",
       "    <tr>\n",
       "      <td>35</td>\n",
       "      <td>2015</td>\n",
       "      <td>606</td>\n",
       "    </tr>\n",
       "    <tr>\n",
       "      <td>36</td>\n",
       "      <td>2016</td>\n",
       "      <td>502</td>\n",
       "    </tr>\n",
       "  </tbody>\n",
       "</table>\n",
       "</div>"
      ],
      "text/plain": [
       "    year_of_release  name\n",
       "0              1980     9\n",
       "1              1981    46\n",
       "2              1982    36\n",
       "3              1983    17\n",
       "4              1984    14\n",
       "5              1985    14\n",
       "6              1986    21\n",
       "7              1987    16\n",
       "8              1988    15\n",
       "9              1989    17\n",
       "10             1990    16\n",
       "11             1991    41\n",
       "12             1992    43\n",
       "13             1993    60\n",
       "14             1994   121\n",
       "15             1995   219\n",
       "16             1996   263\n",
       "17             1997   289\n",
       "18             1998   379\n",
       "19             1999   338\n",
       "20             2000   350\n",
       "21             2001   482\n",
       "22             2002   829\n",
       "23             2003   775\n",
       "24             2004   762\n",
       "25             2005   939\n",
       "26             2006  1006\n",
       "27             2007  1197\n",
       "28             2008  1427\n",
       "29             2009  1426\n",
       "30             2010  1255\n",
       "31             2011  1136\n",
       "32             2012   653\n",
       "33             2013   544\n",
       "34             2014   581\n",
       "35             2015   606\n",
       "36             2016   502"
      ]
     },
     "metadata": {},
     "output_type": "display_data"
    },
    {
     "data": {
      "text/plain": [
       "Text(0, 0.5, 'Кол-во игр')"
      ]
     },
     "execution_count": 6,
     "metadata": {},
     "output_type": "execute_result"
    },
    {
     "data": {
      "image/png": "[encoded data removed]",
      "text/plain": [
       "<Figure size 432x288 with 1 Axes>"
      ]
     },
     "metadata": {
      "needs_background": "light"
     },
     "output_type": "display_data"
    }
   ],
   "source": [
    "#Произведем подсчет выпускаемых игр в разные периоды, сгруппировав данные по годам выпуска игр\n",
    "count_game = games.groupby('year_of_release').agg({'name' : 'count'}).reset_index()\n",
    "display(count_game)\n",
    "#Для наглядного отображения данных построим график\n",
    "plt.plot(count_game['year_of_release'],count_game['name'])\n",
    "plt.title('Кол-во выпускаемых игр за различные периоды')\n",
    "plt.xlabel('Год выпуска игр')\n",
    "plt.ylabel('Кол-во игр')"
   ]
  },
  {
   "cell_type": "markdown",
   "metadata": {},
   "source": [
    "На графике хорошо прослеживается, что в период с 1980 по 1995 год выпускалось не так уж и много игр,думаю,что этими периодами можно смело пренебречь при дальнейших расчетах.Так же на графике очень хорошо прослеживается тенденция на снижение выпускаемых игр."
   ]
  },
  {
   "cell_type": "code",
   "execution_count": 7,
   "metadata": {},
   "outputs": [
    {
     "data": {
      "text/plain": [
       "year_of_release    3.043478\n",
       "dtype: float64"
      ]
     },
     "execution_count": 7,
     "metadata": {},
     "output_type": "execute_result"
    },
    {
     "data": {
      "image/png": "[encoded data removed]",
      "text/plain": [
       "<Figure size 1440x360 with 1 Axes>"
      ]
     },
     "metadata": {
      "needs_background": "light"
     },
     "output_type": "display_data"
    }
   ],
   "source": [
    "#Найдем топ-10 платформ с наибольшими продажами и отобразим их на графике\n",
    "top_10 = games.groupby('platform').agg({'total_sales': 'sum'}).sort_values(by = 'total_sales').tail(10).index\n",
    "games.query('platform in @top_10').reset_index().pivot_table(index = 'year_of_release',\n",
    "                                                             columns = 'platform', \n",
    "                                                             values = 'total_sales', \n",
    "                                                             aggfunc = 'sum' ).plot(figsize=(20,5),grid=True)\n",
    "plt.title('Продажи игр в разрезе топ-10 платформ')\n",
    "plt.xlabel('Год выпуска игр')\n",
    "plt.ylabel('Продажи (млн.копий)')\n",
    "\n",
    "#Подсчитаем среднюю продолжительность жизни платформы\n",
    "#минимальное значение продаж в млн.шт\n",
    "min_sales = 10\n",
    "#сумарные продажи в год выше порога\n",
    "report = games.groupby(['platform','year_of_release']).agg({'total_sales' : 'sum'}).query('total_sales > @min_sales')\n",
    "report.reset_index().groupby('platform').agg({'year_of_release' : 'nunique'}).mean() / 2 #ср.значение делим на 2, т.к половину жизни платформа падает"
   ]
  },
  {
   "cell_type": "markdown",
   "metadata": {},
   "source": [
    "### Данные за актуальный период"
   ]
  },
  {
   "cell_type": "code",
   "execution_count": 8,
   "metadata": {},
   "outputs": [
    {
     "data": {
      "text/plain": [
       "array(['PS3', 'X360', 'PS4', '3DS', 'XOne', 'WiiU', 'Wii', 'PC', 'PSV',\n",
       "       'DS', 'PSP'], dtype=object)"
      ]
     },
     "metadata": {},
     "output_type": "display_data"
    },
    {
     "data": {
      "text/plain": [
       "year_of_release    1.5625\n",
       "dtype: float64"
      ]
     },
     "execution_count": 8,
     "metadata": {},
     "output_type": "execute_result"
    },
    {
     "data": {
      "image/png": "[encoded data removed]",
      "text/plain": [
       "<Figure size 1440x360 with 1 Axes>"
      ]
     },
     "metadata": {
      "needs_background": "light"
     },
     "output_type": "display_data"
    }
   ],
   "source": [
    "#Из предыдущего задания видно, что для нас актуальным периодом будет примерно с 2013 года по 2016, отберем данные\n",
    "games_platform_actual = games.query('year_of_release >= 2013')\n",
    "display(games_platform_actual['platform'].unique())\n",
    "#Проделаем аналогичную операцию как и в предидущем пункте, но уже за актуальный период и выберем топ 3-х платформ\n",
    "#Найдем топ-10 платформ с наибольшими продажами и отобразим их на графике\n",
    "top_10 = games_platform_actual.groupby('platform').agg({'total_sales': 'sum'}).sort_values(by = 'total_sales').tail(11).index\n",
    "games_platform_actual.query('platform in @top_10').reset_index().pivot_table(index = 'year_of_release',\n",
    "                                                             columns = 'platform', \n",
    "                                                             values = 'total_sales', \n",
    "                                                             aggfunc = 'sum' ).plot(figsize=(20,5),grid=True)\n",
    "plt.title('Продажи игр в разрезе топ-3х платформ')\n",
    "plt.xlabel('Год выпуска игр')\n",
    "plt.ylabel('Продажи (млн.копий)')\n",
    "\n",
    "#Подсчитаем среднюю продолжительность жизни платформы\n",
    "#минимальное значение продаж в млн.шт\n",
    "min_sales = 10\n",
    "#сумарные продажи в год выше порога\n",
    "report = games_platform_actual.groupby(['platform','year_of_release']).agg({'total_sales' : 'sum'}).query('total_sales > @min_sales')\n",
    "report.reset_index().groupby('platform').agg({'year_of_release' : 'nunique'}).mean() / 2 #ср.значение делим на 2, т.к половину жизни платформа падает"
   ]
  },
  {
   "cell_type": "markdown",
   "metadata": {},
   "source": [
    "Из полученных данных, отображенных на графике видим, что лидером продаж является платформа PS4, остальные имеют уже нисходящий тренд, но пока еще находятся в лидерах продаж, вот поэтому и возьмем эти данные для дальнейшего анализа."
   ]
  },
  {
   "cell_type": "code",
   "execution_count": 9,
   "metadata": {},
   "outputs": [],
   "source": [
    "#games_platform_actual = games_platform_actual.query('year_of_release >= 2013&platform ==[\"PS3\",\"PS4\",\"XOne\"]')"
   ]
  },
  {
   "cell_type": "markdown",
   "metadata": {},
   "source": [
    "### Выбросы"
   ]
  },
  {
   "cell_type": "code",
   "execution_count": 10,
   "metadata": {},
   "outputs": [
    {
     "data": {
      "image/png": "[encoded data removed]",
      "text/plain": [
       "<Figure size 1080x360 with 1 Axes>"
      ]
     },
     "metadata": {
      "needs_background": "light"
     },
     "output_type": "display_data"
    }
   ],
   "source": [
    "warnings.filterwarnings('ignore')\n",
    "# Построим \"ящик с усами\" чтобы определить выбросы в данных\n",
    "#games_platform_actual.info()\n",
    "games_platform_actual.boxplot(column='total_sales' , by='platform', figsize=(15,5))\n",
    "plt.show()"
   ]
  },
  {
   "cell_type": "code",
   "execution_count": 11,
   "metadata": {
    "scrolled": false
   },
   "outputs": [
    {
     "data": {
      "text/plain": [
       "(-0.5249999999999999, 0.955)"
      ]
     },
     "execution_count": 11,
     "metadata": {},
     "output_type": "execute_result"
    },
    {
     "data": {
      "image/png": "[encoded data removed]",
      "text/plain": [
       "<Figure size 1080x360 with 1 Axes>"
      ]
     },
     "metadata": {
      "needs_background": "light"
     },
     "output_type": "display_data"
    }
   ],
   "source": [
    "#Посмотрим на это более пристально и уберем редкие и выбивающиеся значения(выбросы), построив диаграмму размаха\n",
    "#Определим границы выбросов\n",
    "q1 = games_platform_actual['total_sales'].quantile(0.25)\n",
    "q3 = games_platform_actual['total_sales'].quantile(0.75)\n",
    "iqr = q3 - q1 # iqr\n",
    "# границы интервала наиболее вероятных значений\n",
    "q1 - 1.5 * iqr, q3 + 1.5 * iqr #нижняя граница выбросов и верхняя граница выбросов\n",
    "games_platform_actual.boxplot(column='total_sales' , by='platform', figsize=(15,5))\n",
    "plt.ylim(q1 - 1.5 * iqr, q3 + 1.5 * iqr)"
   ]
  },
  {
   "cell_type": "markdown",
   "metadata": {},
   "source": [
    "### Диаграмма рассеивания и индекс корреляции"
   ]
  },
  {
   "cell_type": "code",
   "execution_count": 12,
   "metadata": {},
   "outputs": [
    {
     "data": {
      "text/plain": [
       "<matplotlib.legend.Legend at 0x7fe6c7d36150>"
      ]
     },
     "execution_count": 12,
     "metadata": {},
     "output_type": "execute_result"
    },
    {
     "data": {
      "image/png": "[encoded data removed]",
      "text/plain": [
       "<Figure size 432x288 with 1 Axes>"
      ]
     },
     "metadata": {
      "needs_background": "light"
     },
     "output_type": "display_data"
    },
    {
     "data": {
      "image/png": "[encoded data removed]",
      "text/plain": [
       "<Figure size 432x288 with 1 Axes>"
      ]
     },
     "metadata": {
      "needs_background": "light"
     },
     "output_type": "display_data"
    }
   ],
   "source": [
    "# Построим тепловую карту для наглядности отображения индекса корреляции \n",
    "sns.heatmap(games_platform_actual.corr(),annot=True,vmin=-1,vmax=1,center=0,cbar=False,fmt ='.3g')\n",
    "#построим диаграмму рассеивания(лучше точечный график рассеивания)продажи от оценки критиков\n",
    "ax=games_platform_actual.query('platform ==\"PS3\"').plot(x='critic_score',y='total_sales',style='o',label='PS3')\n",
    "games_platform_actual.query('platform ==\"PS4\"').plot(x='critic_score',y='total_sales',style='x',ax=ax,label='PS4')\n",
    "games_platform_actual.query('platform ==\"XOne\"').plot(x='critic_score',y='total_sales',kind='scatter',ax=ax,\n",
    "                                                     color='green',label='XOne')\n",
    "plt.legend()"
   ]
  },
  {
   "cell_type": "markdown",
   "metadata": {},
   "source": [
    "Выполнив данную работу можно сказать, что зависимость между оценками пользователей и продажами очень мала и отрицательна(т. е при увеличении значения отзыва пользователей, продажи несущественно меняются), а вот зависимость между мнением критиков  и продажами прослеживается очень четко(,0.366), что говорит нам о том, что при увеличении мнения критиков, увеличиваются и продажи."
   ]
  },
  {
   "cell_type": "code",
   "execution_count": 13,
   "metadata": {},
   "outputs": [
    {
     "name": "stdout",
     "output_type": "stream",
     "text": [
      "Корреляция : -0.0026078133545982727\n",
      "Корреляция : 0.3136995151027369\n"
     ]
    }
   ],
   "source": [
    "#посмотрим зависимость одной величины от другой(посмотрим  на корреляцию)\n",
    "#Посмотрим зависимость продаж от оценок пользователей\n",
    "print('Корреляция :',games_platform_actual['user_score'].corr(games_platform_actual['total_sales']))\n",
    "#Посмотрим зависимость продаж от оценок критиков\n",
    "print('Корреляция :',games_platform_actual['critic_score'].corr(games_platform_actual['total_sales']))"
   ]
  },
  {
   "cell_type": "code",
   "execution_count": 14,
   "metadata": {},
   "outputs": [
    {
     "data": {
      "text/plain": [
       "<matplotlib.legend.Legend at 0x7fe6c8e7a250>"
      ]
     },
     "execution_count": 14,
     "metadata": {},
     "output_type": "execute_result"
    },
    {
     "data": {
      "image/png": "[encoded data removed]",
      "text/plain": [
       "<Figure size 432x288 with 1 Axes>"
      ]
     },
     "metadata": {
      "needs_background": "light"
     },
     "output_type": "display_data"
    }
   ],
   "source": [
    "#построим диаграмму рассеивания(лучше точечный график рассеивания)продажи от оценки пользователей\n",
    "ax=games_platform_actual.query('platform ==\"PS3\"').plot(x='user_score',y='total_sales',style='o',label='PS3')\n",
    "games_platform_actual.query('platform ==\"PS4\"').plot(x='user_score',y='total_sales',style='x',ax=ax,label='PS4')\n",
    "games_platform_actual.query('platform ==\"XOne\"').plot(x='user_score',y='total_sales',kind='scatter',ax=ax,\n",
    "                                                     color='green',label='XOne')\n",
    "plt.legend()"
   ]
  },
  {
   "cell_type": "markdown",
   "metadata": {},
   "source": [
    "### Общее распределение игр по жанрам"
   ]
  },
  {
   "cell_type": "code",
   "execution_count": 15,
   "metadata": {},
   "outputs": [
    {
     "data": {
      "text/plain": [
       "(-0.5249999999999999, 0.955)"
      ]
     },
     "execution_count": 15,
     "metadata": {},
     "output_type": "execute_result"
    },
    {
     "data": {
      "image/png": "[encoded data removed]",
      "text/plain": [
       "<Figure size 1080x360 with 1 Axes>"
      ]
     },
     "metadata": {
      "needs_background": "light"
     },
     "output_type": "display_data"
    }
   ],
   "source": [
    "#Для того, чтобы найти общее распределение игр по жанрам, построим диаграмму рассеивания для отобранных платформ\n",
    "q1 = games_platform_actual['total_sales'].quantile(0.25)\n",
    "q3 = games_platform_actual['total_sales'].quantile(0.75)\n",
    "iqr = q3 - q1 # iqr\n",
    "# границы интервала наиболее вероятных значений\n",
    "q1 - 1.5 * iqr, q3 + 1.5 * iqr #нижняя граница выбросов и верхняя граница выбросов\n",
    "games_platform_actual.boxplot(column='total_sales' , by='genre', figsize=(15,5))\n",
    "plt.ylim(q1 - 1.5 * iqr, q3 + 1.5 * iqr)"
   ]
  },
  {
   "cell_type": "markdown",
   "metadata": {},
   "source": [
    "Из полученной диаграммы можно выделить, что наиболее прибыльными жанрами среди выбранных платформ за определенный период стали : Action,Platform,Racing,Shooter,Sports.Так же нра графике хорошо заметны лучшие продажи и худшие(стратегии,пазлы)."
   ]
  },
  {
   "cell_type": "code",
   "execution_count": 16,
   "metadata": {},
   "outputs": [
    {
     "data": {
      "text/html": [
       "<div>\n",
       "<style scoped>\n",
       "    .dataframe tbody tr th:only-of-type {\n",
       "        vertical-align: middle;\n",
       "    }\n",
       "\n",
       "    .dataframe tbody tr th {\n",
       "        vertical-align: top;\n",
       "    }\n",
       "\n",
       "    .dataframe thead th {\n",
       "        text-align: right;\n",
       "    }\n",
       "</style>\n",
       "<table border=\"1\" class=\"dataframe\">\n",
       "  <thead>\n",
       "    <tr style=\"text-align: right;\">\n",
       "      <th></th>\n",
       "      <th>Кол-во игр в жанре(шт.)</th>\n",
       "      <th>Всего продано(млн.копий)</th>\n",
       "    </tr>\n",
       "    <tr>\n",
       "      <th>genre</th>\n",
       "      <th></th>\n",
       "      <th></th>\n",
       "    </tr>\n",
       "  </thead>\n",
       "  <tbody>\n",
       "    <tr>\n",
       "      <td>Action</td>\n",
       "      <td>766</td>\n",
       "      <td>321.87</td>\n",
       "    </tr>\n",
       "    <tr>\n",
       "      <td>Shooter</td>\n",
       "      <td>187</td>\n",
       "      <td>232.98</td>\n",
       "    </tr>\n",
       "    <tr>\n",
       "      <td>Sports</td>\n",
       "      <td>214</td>\n",
       "      <td>150.65</td>\n",
       "    </tr>\n",
       "    <tr>\n",
       "      <td>Role-Playing</td>\n",
       "      <td>292</td>\n",
       "      <td>145.89</td>\n",
       "    </tr>\n",
       "    <tr>\n",
       "      <td>Misc</td>\n",
       "      <td>155</td>\n",
       "      <td>62.82</td>\n",
       "    </tr>\n",
       "    <tr>\n",
       "      <td>Platform</td>\n",
       "      <td>74</td>\n",
       "      <td>42.63</td>\n",
       "    </tr>\n",
       "    <tr>\n",
       "      <td>Racing</td>\n",
       "      <td>85</td>\n",
       "      <td>39.89</td>\n",
       "    </tr>\n",
       "    <tr>\n",
       "      <td>Fighting</td>\n",
       "      <td>80</td>\n",
       "      <td>35.31</td>\n",
       "    </tr>\n",
       "    <tr>\n",
       "      <td>Adventure</td>\n",
       "      <td>245</td>\n",
       "      <td>23.64</td>\n",
       "    </tr>\n",
       "    <tr>\n",
       "      <td>Simulation</td>\n",
       "      <td>62</td>\n",
       "      <td>21.76</td>\n",
       "    </tr>\n",
       "    <tr>\n",
       "      <td>Strategy</td>\n",
       "      <td>56</td>\n",
       "      <td>10.08</td>\n",
       "    </tr>\n",
       "    <tr>\n",
       "      <td>Puzzle</td>\n",
       "      <td>17</td>\n",
       "      <td>3.17</td>\n",
       "    </tr>\n",
       "  </tbody>\n",
       "</table>\n",
       "</div>"
      ],
      "text/plain": [
       "              Кол-во игр в жанре(шт.)  Всего продано(млн.копий)\n",
       "genre                                                          \n",
       "Action                            766                    321.87\n",
       "Shooter                           187                    232.98\n",
       "Sports                            214                    150.65\n",
       "Role-Playing                      292                    145.89\n",
       "Misc                              155                     62.82\n",
       "Platform                           74                     42.63\n",
       "Racing                             85                     39.89\n",
       "Fighting                           80                     35.31\n",
       "Adventure                         245                     23.64\n",
       "Simulation                         62                     21.76\n",
       "Strategy                           56                     10.08\n",
       "Puzzle                             17                      3.17"
      ]
     },
     "metadata": {},
     "output_type": "display_data"
    }
   ],
   "source": [
    "#Кол-во игр в каждом жанре и суммарные продажи игр по жанрам\n",
    "all_sales_genre = games_platform_actual.groupby('genre').agg({'name' : 'count','total_sales':'sum'}).sort_values('total_sales',ascending=False)\n",
    "all_sales_genre.columns = ['Кол-во игр в жанре(шт.)', 'Всего продано(млн.копий)']\n",
    "display(all_sales_genre)"
   ]
  },
  {
   "cell_type": "markdown",
   "metadata": {},
   "source": [
    "### Портрет пользователя"
   ]
  },
  {
   "cell_type": "code",
   "execution_count": 17,
   "metadata": {},
   "outputs": [
    {
     "data": {
      "text/plain": [
       "Text(0, 0.5, 'Продажи')"
      ]
     },
     "execution_count": 17,
     "metadata": {},
     "output_type": "execute_result"
    },
    {
     "data": {
      "image/png": "[encoded data removed]",
      "text/plain": [
       "<Figure size 1152x432 with 3 Axes>"
      ]
     },
     "metadata": {
      "needs_background": "light"
     },
     "output_type": "display_data"
    }
   ],
   "source": [
    "#Построим графики,для составления общего портрета пользователей каждого региона\n",
    "fig, (ax1, ax2, ax3) = plt.subplots(nrows=1, ncols=3, figsize=(16, 6))\n",
    "fig.autofmt_xdate()\n",
    "sns.barplot(data=games_platform_actual,x='genre',y='jp_sales',ax=ax1)\n",
    "sns.barplot(data=games_platform_actual,x='genre',y='na_sales',ax=ax2)\n",
    "sns.barplot(data=games_platform_actual,x='genre',y='eu_sales',ax=ax3)\n",
    "plt.title('Распределение продаж по регионам ')\n",
    "plt.xlabel('Жанры игр')\n",
    "plt.ylabel('Продажи')"
   ]
  },
  {
   "cell_type": "markdown",
   "metadata": {},
   "source": [
    "Из полученых данных видим, что пользователи из Японии отличаются, от всех других пользователей(здесь больше предпочитают ролевые игры и action), а что касается всех других регионов, то они примерно одинаковые.Ниже подкреплено все соотвествующими расчетами."
   ]
  },
  {
   "cell_type": "code",
   "execution_count": 18,
   "metadata": {},
   "outputs": [
    {
     "data": {
      "text/html": [
       "<div>\n",
       "<style scoped>\n",
       "    .dataframe tbody tr th:only-of-type {\n",
       "        vertical-align: middle;\n",
       "    }\n",
       "\n",
       "    .dataframe tbody tr th {\n",
       "        vertical-align: top;\n",
       "    }\n",
       "\n",
       "    .dataframe thead th {\n",
       "        text-align: right;\n",
       "    }\n",
       "</style>\n",
       "<table border=\"1\" class=\"dataframe\">\n",
       "  <thead>\n",
       "    <tr style=\"text-align: right;\">\n",
       "      <th></th>\n",
       "      <th>platform</th>\n",
       "      <th>na_sales</th>\n",
       "    </tr>\n",
       "  </thead>\n",
       "  <tbody>\n",
       "    <tr>\n",
       "      <td>0</td>\n",
       "      <td>PS4</td>\n",
       "      <td>108.74</td>\n",
       "    </tr>\n",
       "    <tr>\n",
       "      <td>1</td>\n",
       "      <td>XOne</td>\n",
       "      <td>93.12</td>\n",
       "    </tr>\n",
       "    <tr>\n",
       "      <td>2</td>\n",
       "      <td>X360</td>\n",
       "      <td>81.66</td>\n",
       "    </tr>\n",
       "    <tr>\n",
       "      <td>3</td>\n",
       "      <td>PS3</td>\n",
       "      <td>63.50</td>\n",
       "    </tr>\n",
       "    <tr>\n",
       "      <td>4</td>\n",
       "      <td>3DS</td>\n",
       "      <td>38.20</td>\n",
       "    </tr>\n",
       "    <tr>\n",
       "      <td>5</td>\n",
       "      <td>WiiU</td>\n",
       "      <td>29.21</td>\n",
       "    </tr>\n",
       "    <tr>\n",
       "      <td>6</td>\n",
       "      <td>PC</td>\n",
       "      <td>11.11</td>\n",
       "    </tr>\n",
       "    <tr>\n",
       "      <td>7</td>\n",
       "      <td>Wii</td>\n",
       "      <td>6.56</td>\n",
       "    </tr>\n",
       "    <tr>\n",
       "      <td>8</td>\n",
       "      <td>PSV</td>\n",
       "      <td>5.04</td>\n",
       "    </tr>\n",
       "    <tr>\n",
       "      <td>9</td>\n",
       "      <td>DS</td>\n",
       "      <td>0.57</td>\n",
       "    </tr>\n",
       "    <tr>\n",
       "      <td>10</td>\n",
       "      <td>PSP</td>\n",
       "      <td>0.00</td>\n",
       "    </tr>\n",
       "  </tbody>\n",
       "</table>\n",
       "</div>"
      ],
      "text/plain": [
       "   platform  na_sales\n",
       "0       PS4    108.74\n",
       "1      XOne     93.12\n",
       "2      X360     81.66\n",
       "3       PS3     63.50\n",
       "4       3DS     38.20\n",
       "5      WiiU     29.21\n",
       "6        PC     11.11\n",
       "7       Wii      6.56\n",
       "8       PSV      5.04\n",
       "9        DS      0.57\n",
       "10      PSP      0.00"
      ]
     },
     "metadata": {},
     "output_type": "display_data"
    },
    {
     "data": {
      "text/html": [
       "<div>\n",
       "<style scoped>\n",
       "    .dataframe tbody tr th:only-of-type {\n",
       "        vertical-align: middle;\n",
       "    }\n",
       "\n",
       "    .dataframe tbody tr th {\n",
       "        vertical-align: top;\n",
       "    }\n",
       "\n",
       "    .dataframe thead th {\n",
       "        text-align: right;\n",
       "    }\n",
       "</style>\n",
       "<table border=\"1\" class=\"dataframe\">\n",
       "  <thead>\n",
       "    <tr style=\"text-align: right;\">\n",
       "      <th></th>\n",
       "      <th>platform</th>\n",
       "      <th>jp_sales</th>\n",
       "    </tr>\n",
       "  </thead>\n",
       "  <tbody>\n",
       "    <tr>\n",
       "      <td>0</td>\n",
       "      <td>3DS</td>\n",
       "      <td>67.81</td>\n",
       "    </tr>\n",
       "    <tr>\n",
       "      <td>1</td>\n",
       "      <td>PS3</td>\n",
       "      <td>23.35</td>\n",
       "    </tr>\n",
       "    <tr>\n",
       "      <td>2</td>\n",
       "      <td>PSV</td>\n",
       "      <td>18.59</td>\n",
       "    </tr>\n",
       "    <tr>\n",
       "      <td>3</td>\n",
       "      <td>PS4</td>\n",
       "      <td>15.96</td>\n",
       "    </tr>\n",
       "    <tr>\n",
       "      <td>4</td>\n",
       "      <td>WiiU</td>\n",
       "      <td>10.88</td>\n",
       "    </tr>\n",
       "    <tr>\n",
       "      <td>5</td>\n",
       "      <td>PSP</td>\n",
       "      <td>3.29</td>\n",
       "    </tr>\n",
       "    <tr>\n",
       "      <td>6</td>\n",
       "      <td>X360</td>\n",
       "      <td>0.51</td>\n",
       "    </tr>\n",
       "    <tr>\n",
       "      <td>7</td>\n",
       "      <td>XOne</td>\n",
       "      <td>0.34</td>\n",
       "    </tr>\n",
       "    <tr>\n",
       "      <td>8</td>\n",
       "      <td>Wii</td>\n",
       "      <td>0.05</td>\n",
       "    </tr>\n",
       "    <tr>\n",
       "      <td>9</td>\n",
       "      <td>DS</td>\n",
       "      <td>0.00</td>\n",
       "    </tr>\n",
       "    <tr>\n",
       "      <td>10</td>\n",
       "      <td>PC</td>\n",
       "      <td>0.00</td>\n",
       "    </tr>\n",
       "  </tbody>\n",
       "</table>\n",
       "</div>"
      ],
      "text/plain": [
       "   platform  jp_sales\n",
       "0       3DS     67.81\n",
       "1       PS3     23.35\n",
       "2       PSV     18.59\n",
       "3       PS4     15.96\n",
       "4      WiiU     10.88\n",
       "5       PSP      3.29\n",
       "6      X360      0.51\n",
       "7      XOne      0.34\n",
       "8       Wii      0.05\n",
       "9        DS      0.00\n",
       "10       PC      0.00"
      ]
     },
     "metadata": {},
     "output_type": "display_data"
    },
    {
     "data": {
      "text/html": [
       "<div>\n",
       "<style scoped>\n",
       "    .dataframe tbody tr th:only-of-type {\n",
       "        vertical-align: middle;\n",
       "    }\n",
       "\n",
       "    .dataframe tbody tr th {\n",
       "        vertical-align: top;\n",
       "    }\n",
       "\n",
       "    .dataframe thead th {\n",
       "        text-align: right;\n",
       "    }\n",
       "</style>\n",
       "<table border=\"1\" class=\"dataframe\">\n",
       "  <thead>\n",
       "    <tr style=\"text-align: right;\">\n",
       "      <th></th>\n",
       "      <th>platform</th>\n",
       "      <th>eu_sales</th>\n",
       "    </tr>\n",
       "  </thead>\n",
       "  <tbody>\n",
       "    <tr>\n",
       "      <td>0</td>\n",
       "      <td>PS4</td>\n",
       "      <td>141.09</td>\n",
       "    </tr>\n",
       "    <tr>\n",
       "      <td>1</td>\n",
       "      <td>PS3</td>\n",
       "      <td>67.81</td>\n",
       "    </tr>\n",
       "    <tr>\n",
       "      <td>2</td>\n",
       "      <td>XOne</td>\n",
       "      <td>51.59</td>\n",
       "    </tr>\n",
       "    <tr>\n",
       "      <td>3</td>\n",
       "      <td>X360</td>\n",
       "      <td>42.52</td>\n",
       "    </tr>\n",
       "    <tr>\n",
       "      <td>4</td>\n",
       "      <td>3DS</td>\n",
       "      <td>30.96</td>\n",
       "    </tr>\n",
       "    <tr>\n",
       "      <td>5</td>\n",
       "      <td>PC</td>\n",
       "      <td>25.36</td>\n",
       "    </tr>\n",
       "    <tr>\n",
       "      <td>6</td>\n",
       "      <td>WiiU</td>\n",
       "      <td>19.85</td>\n",
       "    </tr>\n",
       "    <tr>\n",
       "      <td>7</td>\n",
       "      <td>PSV</td>\n",
       "      <td>6.10</td>\n",
       "    </tr>\n",
       "    <tr>\n",
       "      <td>8</td>\n",
       "      <td>Wii</td>\n",
       "      <td>5.93</td>\n",
       "    </tr>\n",
       "    <tr>\n",
       "      <td>9</td>\n",
       "      <td>DS</td>\n",
       "      <td>0.85</td>\n",
       "    </tr>\n",
       "    <tr>\n",
       "      <td>10</td>\n",
       "      <td>PSP</td>\n",
       "      <td>0.17</td>\n",
       "    </tr>\n",
       "  </tbody>\n",
       "</table>\n",
       "</div>"
      ],
      "text/plain": [
       "   platform  eu_sales\n",
       "0       PS4    141.09\n",
       "1       PS3     67.81\n",
       "2      XOne     51.59\n",
       "3      X360     42.52\n",
       "4       3DS     30.96\n",
       "5        PC     25.36\n",
       "6      WiiU     19.85\n",
       "7       PSV      6.10\n",
       "8       Wii      5.93\n",
       "9        DS      0.85\n",
       "10      PSP      0.17"
      ]
     },
     "metadata": {},
     "output_type": "display_data"
    },
    {
     "data": {
      "text/html": [
       "<div>\n",
       "<style scoped>\n",
       "    .dataframe tbody tr th:only-of-type {\n",
       "        vertical-align: middle;\n",
       "    }\n",
       "\n",
       "    .dataframe tbody tr th {\n",
       "        vertical-align: top;\n",
       "    }\n",
       "\n",
       "    .dataframe thead th {\n",
       "        text-align: right;\n",
       "    }\n",
       "</style>\n",
       "<table border=\"1\" class=\"dataframe\">\n",
       "  <thead>\n",
       "    <tr style=\"text-align: right;\">\n",
       "      <th></th>\n",
       "      <th>genre</th>\n",
       "      <th>na_sales</th>\n",
       "    </tr>\n",
       "  </thead>\n",
       "  <tbody>\n",
       "    <tr>\n",
       "      <td>0</td>\n",
       "      <td>Action</td>\n",
       "      <td>126.05</td>\n",
       "    </tr>\n",
       "    <tr>\n",
       "      <td>1</td>\n",
       "      <td>Shooter</td>\n",
       "      <td>109.74</td>\n",
       "    </tr>\n",
       "    <tr>\n",
       "      <td>2</td>\n",
       "      <td>Sports</td>\n",
       "      <td>65.27</td>\n",
       "    </tr>\n",
       "    <tr>\n",
       "      <td>3</td>\n",
       "      <td>Role-Playing</td>\n",
       "      <td>46.40</td>\n",
       "    </tr>\n",
       "    <tr>\n",
       "      <td>4</td>\n",
       "      <td>Misc</td>\n",
       "      <td>27.49</td>\n",
       "    </tr>\n",
       "  </tbody>\n",
       "</table>\n",
       "</div>"
      ],
      "text/plain": [
       "          genre  na_sales\n",
       "0        Action    126.05\n",
       "1       Shooter    109.74\n",
       "2        Sports     65.27\n",
       "3  Role-Playing     46.40\n",
       "4          Misc     27.49"
      ]
     },
     "metadata": {},
     "output_type": "display_data"
    },
    {
     "data": {
      "text/html": [
       "<div>\n",
       "<style scoped>\n",
       "    .dataframe tbody tr th:only-of-type {\n",
       "        vertical-align: middle;\n",
       "    }\n",
       "\n",
       "    .dataframe tbody tr th {\n",
       "        vertical-align: top;\n",
       "    }\n",
       "\n",
       "    .dataframe thead th {\n",
       "        text-align: right;\n",
       "    }\n",
       "</style>\n",
       "<table border=\"1\" class=\"dataframe\">\n",
       "  <thead>\n",
       "    <tr style=\"text-align: right;\">\n",
       "      <th></th>\n",
       "      <th>genre</th>\n",
       "      <th>jp_sales</th>\n",
       "    </tr>\n",
       "  </thead>\n",
       "  <tbody>\n",
       "    <tr>\n",
       "      <td>0</td>\n",
       "      <td>Role-Playing</td>\n",
       "      <td>51.04</td>\n",
       "    </tr>\n",
       "    <tr>\n",
       "      <td>1</td>\n",
       "      <td>Action</td>\n",
       "      <td>40.49</td>\n",
       "    </tr>\n",
       "    <tr>\n",
       "      <td>2</td>\n",
       "      <td>Misc</td>\n",
       "      <td>9.20</td>\n",
       "    </tr>\n",
       "    <tr>\n",
       "      <td>3</td>\n",
       "      <td>Fighting</td>\n",
       "      <td>7.65</td>\n",
       "    </tr>\n",
       "    <tr>\n",
       "      <td>4</td>\n",
       "      <td>Shooter</td>\n",
       "      <td>6.61</td>\n",
       "    </tr>\n",
       "  </tbody>\n",
       "</table>\n",
       "</div>"
      ],
      "text/plain": [
       "          genre  jp_sales\n",
       "0  Role-Playing     51.04\n",
       "1        Action     40.49\n",
       "2          Misc      9.20\n",
       "3      Fighting      7.65\n",
       "4       Shooter      6.61"
      ]
     },
     "metadata": {},
     "output_type": "display_data"
    },
    {
     "data": {
      "text/html": [
       "<div>\n",
       "<style scoped>\n",
       "    .dataframe tbody tr th:only-of-type {\n",
       "        vertical-align: middle;\n",
       "    }\n",
       "\n",
       "    .dataframe tbody tr th {\n",
       "        vertical-align: top;\n",
       "    }\n",
       "\n",
       "    .dataframe thead th {\n",
       "        text-align: right;\n",
       "    }\n",
       "</style>\n",
       "<table border=\"1\" class=\"dataframe\">\n",
       "  <thead>\n",
       "    <tr style=\"text-align: right;\">\n",
       "      <th></th>\n",
       "      <th>genre</th>\n",
       "      <th>eu_sales</th>\n",
       "    </tr>\n",
       "  </thead>\n",
       "  <tbody>\n",
       "    <tr>\n",
       "      <td>0</td>\n",
       "      <td>Action</td>\n",
       "      <td>118.13</td>\n",
       "    </tr>\n",
       "    <tr>\n",
       "      <td>1</td>\n",
       "      <td>Shooter</td>\n",
       "      <td>87.86</td>\n",
       "    </tr>\n",
       "    <tr>\n",
       "      <td>2</td>\n",
       "      <td>Sports</td>\n",
       "      <td>60.52</td>\n",
       "    </tr>\n",
       "    <tr>\n",
       "      <td>3</td>\n",
       "      <td>Role-Playing</td>\n",
       "      <td>36.97</td>\n",
       "    </tr>\n",
       "    <tr>\n",
       "      <td>4</td>\n",
       "      <td>Racing</td>\n",
       "      <td>20.19</td>\n",
       "    </tr>\n",
       "  </tbody>\n",
       "</table>\n",
       "</div>"
      ],
      "text/plain": [
       "          genre  eu_sales\n",
       "0        Action    118.13\n",
       "1       Shooter     87.86\n",
       "2        Sports     60.52\n",
       "3  Role-Playing     36.97\n",
       "4        Racing     20.19"
      ]
     },
     "metadata": {},
     "output_type": "display_data"
    },
    {
     "data": {
      "text/html": [
       "<div>\n",
       "<style scoped>\n",
       "    .dataframe tbody tr th:only-of-type {\n",
       "        vertical-align: middle;\n",
       "    }\n",
       "\n",
       "    .dataframe tbody tr th {\n",
       "        vertical-align: top;\n",
       "    }\n",
       "\n",
       "    .dataframe thead th {\n",
       "        text-align: right;\n",
       "    }\n",
       "</style>\n",
       "<table border=\"1\" class=\"dataframe\">\n",
       "  <thead>\n",
       "    <tr style=\"text-align: right;\">\n",
       "      <th></th>\n",
       "      <th>rating</th>\n",
       "      <th>na_sales</th>\n",
       "    </tr>\n",
       "  </thead>\n",
       "  <tbody>\n",
       "    <tr>\n",
       "      <td>0</td>\n",
       "      <td>M</td>\n",
       "      <td>165.21</td>\n",
       "    </tr>\n",
       "    <tr>\n",
       "      <td>1</td>\n",
       "      <td>tbd</td>\n",
       "      <td>89.42</td>\n",
       "    </tr>\n",
       "    <tr>\n",
       "      <td>2</td>\n",
       "      <td>E</td>\n",
       "      <td>79.05</td>\n",
       "    </tr>\n",
       "    <tr>\n",
       "      <td>3</td>\n",
       "      <td>E10+</td>\n",
       "      <td>54.24</td>\n",
       "    </tr>\n",
       "    <tr>\n",
       "      <td>4</td>\n",
       "      <td>T</td>\n",
       "      <td>49.79</td>\n",
       "    </tr>\n",
       "  </tbody>\n",
       "</table>\n",
       "</div>"
      ],
      "text/plain": [
       "  rating  na_sales\n",
       "0      M    165.21\n",
       "1    tbd     89.42\n",
       "2      E     79.05\n",
       "3   E10+     54.24\n",
       "4      T     49.79"
      ]
     },
     "metadata": {},
     "output_type": "display_data"
    },
    {
     "data": {
      "text/html": [
       "<div>\n",
       "<style scoped>\n",
       "    .dataframe tbody tr th:only-of-type {\n",
       "        vertical-align: middle;\n",
       "    }\n",
       "\n",
       "    .dataframe tbody tr th {\n",
       "        vertical-align: top;\n",
       "    }\n",
       "\n",
       "    .dataframe thead th {\n",
       "        text-align: right;\n",
       "    }\n",
       "</style>\n",
       "<table border=\"1\" class=\"dataframe\">\n",
       "  <thead>\n",
       "    <tr style=\"text-align: right;\">\n",
       "      <th></th>\n",
       "      <th>rating</th>\n",
       "      <th>jp_sales</th>\n",
       "    </tr>\n",
       "  </thead>\n",
       "  <tbody>\n",
       "    <tr>\n",
       "      <td>0</td>\n",
       "      <td>tbd</td>\n",
       "      <td>85.05</td>\n",
       "    </tr>\n",
       "    <tr>\n",
       "      <td>1</td>\n",
       "      <td>T</td>\n",
       "      <td>20.59</td>\n",
       "    </tr>\n",
       "    <tr>\n",
       "      <td>2</td>\n",
       "      <td>E</td>\n",
       "      <td>15.14</td>\n",
       "    </tr>\n",
       "    <tr>\n",
       "      <td>3</td>\n",
       "      <td>M</td>\n",
       "      <td>14.11</td>\n",
       "    </tr>\n",
       "    <tr>\n",
       "      <td>4</td>\n",
       "      <td>E10+</td>\n",
       "      <td>5.89</td>\n",
       "    </tr>\n",
       "  </tbody>\n",
       "</table>\n",
       "</div>"
      ],
      "text/plain": [
       "  rating  jp_sales\n",
       "0    tbd     85.05\n",
       "1      T     20.59\n",
       "2      E     15.14\n",
       "3      M     14.11\n",
       "4   E10+      5.89"
      ]
     },
     "metadata": {},
     "output_type": "display_data"
    },
    {
     "data": {
      "text/html": [
       "<div>\n",
       "<style scoped>\n",
       "    .dataframe tbody tr th:only-of-type {\n",
       "        vertical-align: middle;\n",
       "    }\n",
       "\n",
       "    .dataframe tbody tr th {\n",
       "        vertical-align: top;\n",
       "    }\n",
       "\n",
       "    .dataframe thead th {\n",
       "        text-align: right;\n",
       "    }\n",
       "</style>\n",
       "<table border=\"1\" class=\"dataframe\">\n",
       "  <thead>\n",
       "    <tr style=\"text-align: right;\">\n",
       "      <th></th>\n",
       "      <th>rating</th>\n",
       "      <th>eu_sales</th>\n",
       "    </tr>\n",
       "  </thead>\n",
       "  <tbody>\n",
       "    <tr>\n",
       "      <td>0</td>\n",
       "      <td>M</td>\n",
       "      <td>145.32</td>\n",
       "    </tr>\n",
       "    <tr>\n",
       "      <td>1</td>\n",
       "      <td>E</td>\n",
       "      <td>83.36</td>\n",
       "    </tr>\n",
       "    <tr>\n",
       "      <td>2</td>\n",
       "      <td>tbd</td>\n",
       "      <td>78.91</td>\n",
       "    </tr>\n",
       "    <tr>\n",
       "      <td>3</td>\n",
       "      <td>E10+</td>\n",
       "      <td>42.69</td>\n",
       "    </tr>\n",
       "    <tr>\n",
       "      <td>4</td>\n",
       "      <td>T</td>\n",
       "      <td>41.95</td>\n",
       "    </tr>\n",
       "  </tbody>\n",
       "</table>\n",
       "</div>"
      ],
      "text/plain": [
       "  rating  eu_sales\n",
       "0      M    145.32\n",
       "1      E     83.36\n",
       "2    tbd     78.91\n",
       "3   E10+     42.69\n",
       "4      T     41.95"
      ]
     },
     "metadata": {},
     "output_type": "display_data"
    }
   ],
   "source": [
    "#Определим топ платформ для каждого региона\n",
    "top_sales_platform_na = games_platform_actual.groupby('platform').agg({'na_sales' : 'sum'}).sort_values('na_sales',ascending=False).reset_index()\n",
    "display(top_sales_platform_na)\n",
    "top_sales_platform_jp = games_platform_actual.groupby('platform').agg({'jp_sales' : 'sum'}).sort_values('jp_sales',ascending=False).reset_index()\n",
    "display(top_sales_platform_jp)\n",
    "top_sales_platform_eu = games_platform_actual.groupby('platform').agg({'eu_sales' : 'sum'}).sort_values('eu_sales',ascending=False).reset_index()\n",
    "display(top_sales_platform_eu)\n",
    "#Определим топ-5 жанров для каждого региона\n",
    "top_sales_genre_na = games_platform_actual.groupby('genre').agg({'na_sales' : 'sum'}).sort_values('na_sales',ascending=False).head(5).reset_index()\n",
    "display(top_sales_genre_na)\n",
    "top_sales_genre_jp = games_platform_actual.groupby('genre').agg({'jp_sales' : 'sum'}).sort_values('jp_sales',ascending=False).head(5).reset_index()\n",
    "display(top_sales_genre_jp)\n",
    "top_sales_genre_eu = games_platform_actual.groupby('genre').agg({'eu_sales' : 'sum'}).sort_values('eu_sales',ascending=False).head(5).reset_index()\n",
    "display(top_sales_genre_eu)\n",
    "#Определим топ-5 рейтингов для каждого региона\n",
    "top_sales_rating_na = games_platform_actual.groupby('rating').agg({'na_sales' : 'sum'}).sort_values('na_sales',ascending=False).reset_index()\n",
    "display(top_sales_rating_na)\n",
    "top_sales_rating_jp = games_platform_actual.groupby('rating').agg({'jp_sales' : 'sum'}).sort_values('jp_sales',ascending=False).reset_index()\n",
    "display(top_sales_rating_jp)\n",
    "top_sales_rating_eu = games_platform_actual.groupby('rating').agg({'eu_sales' : 'sum'}).sort_values('eu_sales',ascending=False).reset_index()\n",
    "display(top_sales_rating_eu)"
   ]
  },
  {
   "cell_type": "markdown",
   "metadata": {},
   "source": [
    "### Формулирование и проверка гипотез"
   ]
  },
  {
   "cell_type": "markdown",
   "metadata": {},
   "source": [
    "Сформулирем гипотезы, которые потом проверим\n",
    "\n",
    "Нулевая гипотеза (Н0) - Средние пользовательские рейтинги платформ Xbox One и PC одинаковые(равные)\n",
    "Альтернативная гипотеза - Средние пользовательские рейтинги платформ Xbox One и PC разные "
   ]
  },
  {
   "cell_type": "code",
   "execution_count": 19,
   "metadata": {},
   "outputs": [
    {
     "name": "stdout",
     "output_type": "stream",
     "text": [
      "Среднее значение пользовательских рейтингов для платформы XOne : 6.521428571428572\n",
      "Среднее значение пользовательских рейтингов для платформы PC : 7.065960264900661\n",
      "p-значение:  1.3037979620149106e-05\n",
      "Отвергаем нулевую гипотезу\n"
     ]
    }
   ],
   "source": [
    "#Прежде чем приступать к формулированию гипотез,необходимо посчитать ср.пользовательские рейтинги \n",
    "#по плаформам Xbox One,PC\n",
    "games = games.dropna(subset=['user_score'])#избавились от значений nan, т.к t-тест не очень дружит с этим значением\n",
    "user_score_x = games.query('platform ==\"XOne\" and not user_score.isna()', engine = 'python')\n",
    "user_score_pc = games.query('platform ==\"PC\" and not user_score.isna()', engine = 'python')\n",
    "user_score_mean_x = user_score_x['user_score'].mean()\n",
    "user_score_mean_pc = user_score_pc['user_score'].mean()\n",
    "print('Среднее значение пользовательских рейтингов для платформы XOne :',user_score_mean_x)\n",
    "print('Среднее значение пользовательских рейтингов для платформы PC :',user_score_mean_pc)\n",
    "#займемся проверкой гипотез\n",
    "alpha = .05 # критический уровень статистической значимости( если p-value < alpha , то отвергнем гипотезу )\n",
    "result = st.ttest_ind(\n",
    "user_score_x['user_score'],\n",
    "user_score_pc['user_score'])\n",
    " \n",
    "print('p-значение: ', result.pvalue)\n",
    " \n",
    "if result.pvalue < alpha:\n",
    "    print(\"Отвергаем нулевую гипотезу\")\n",
    "else:\n",
    "    print(\"Не получилось отвергнуть нулевую гипотезу\") \n"
   ]
  },
  {
   "cell_type": "markdown",
   "metadata": {},
   "source": [
    "Сформулируем еще ряд гипотез, которые проверим\n",
    "Нулевая гипотеза (Н0) - Средние пользовательские рейтинги жанров Action and Sports одинаковые(равные)\n",
    "Альтернативная гипотеза - Средние пользовательские рейтинги жанров Action and Sports разные  "
   ]
  },
  {
   "cell_type": "code",
   "execution_count": 20,
   "metadata": {},
   "outputs": [
    {
     "name": "stdout",
     "output_type": "stream",
     "text": [
      "Среднее значение пользовательских рейтингов для Action : 7.058129175946549\n",
      "Среднее значение пользовательских рейтингов для Sports : 6.951433857539316\n",
      "p-значение:  0.06480928064420527\n",
      "Не получилось отвергнуть нулевую гипотезу\n"
     ]
    }
   ],
   "source": [
    "#Прежде чем приступать к формулированию гипотез,необходимо посчитать ср.пользовательские рейтинги\n",
    "user_score_action = games.query('genre ==\"Action\" and not user_score.isna()', engine = 'python')\n",
    "user_score_sports = games.query('genre ==\"Sports\" and not user_score.isna()', engine = 'python')\n",
    "user_score_mean_action = user_score_action['user_score'].mean()\n",
    "user_score_mean_sports = user_score_sports['user_score'].mean()\n",
    "print('Среднее значение пользовательских рейтингов для Action :',user_score_mean_action)\n",
    "print('Среднее значение пользовательских рейтингов для Sports :',user_score_mean_sports)\n",
    "#займемся проверкой гипотез\n",
    "alpha = .05 # критический уровень статистической значимости( если p-value < alpha , то отвергнем гипотезу )\n",
    "result_2 = st.ttest_ind(\n",
    "user_score_action['user_score'],\n",
    "user_score_sports['user_score'])\n",
    " \n",
    "print('p-значение: ', result_2.pvalue)\n",
    " \n",
    "if result_2.pvalue < alpha:\n",
    "    print(\"Отвергаем нулевую гипотезу\")\n",
    "else:\n",
    "    print(\"Не получилось отвергнуть нулевую гипотезу\") \n"
   ]
  },
  {
   "cell_type": "markdown",
   "metadata": {},
   "source": [
    "## Вывод"
   ]
  },
  {
   "cell_type": "markdown",
   "metadata": {},
   "source": [
    "В ходе полученного задания, данные были загружены(просмотрена предварительная информация по датасету), обработаны(столбцы датасета приведены к единому регистру, обработаны пропуски в данных, некоторые пропуски были удалены,те, что не критичны, а остальные обработаны). Для проведения дальнейшего анализа рекламной компании на 2017 год, были выявлены актуальные платформы на следующий год и жанры игр, которые наиболее востребованы в различных регионах.Была выявлена зависимость продаж игр от рейтинга критиков по этой игре.В целом можно сказать, что продолжительность жизни платформ платформ составляет примерно3 года(остальные 3 года продажи по платформам падают), из нашихданных, было замечено, что те платформы которые еще будут приноситьприбыль в последующие годы,со временем канут в лета.Необходимо создание и выпуск игр на новых платформах!!!"
   ]
  },
  {
   "cell_type": "markdown",
   "metadata": {},
   "source": [
    "## Чек-лист готовности проекта"
   ]
  },
  {
   "cell_type": "markdown",
   "metadata": {},
   "source": [
    "- [x]  открыт файл\n",
    "- [x]  файлы изучены (выведены первые строки, метод info,shape,describe  и тд.)\n",
    "- [x]  определены пропущенные значения\n",
    "- [x]  есть пояснение, какие пропущенные значения обнаружены\n",
    "- [x]  есть пояснение, в каких столбцах изменены типы данных и почему\n",
    "- [x]  посчитать суммарные продажи по всем регионам\n",
    "- [x]  посчитать кол-во игр выпускаемых в разные периоды\n",
    "- [x]  посмотреть, как менялись продажи по платформам. Выберите платформы с наибольшими суммарными продажами и постройте распределение по годам. За какой характерный срок появляются новые и исчезают старые платформы?\n",
    "- [x]  возьмите данные за соответствующий актуальный период\n",
    "- [x]  Какие платформы лидируют по продажам, растут или падают? Выберите несколько потенциально прибыльных платформ.\n",
    "- [x]  Постройте график «ящик с усами» по глобальным продажам игр в разбивке по платформам. Опишите результат.\n",
    "- [x]  Постройте диаграмму рассеяния и посчитайте корреляцию между отзывами и продажами. Сформулируйте выводы.\n",
    "- [x]  Соотнесите выводы с продажами игр на других платформах.\n",
    "- [x]  Посмотрите на общее распределение игр по жанрам. Что можно сказать о самых прибыльных жанрах? Выделяются ли жанры с высокими и низкими продажами?\n",
    "- [x]  Определите портрет для пользователя каждого региона (NA, EU, JP)\n",
    "- [x]  Проверьте гипотезы:Средние пользовательские рейтинги платформ Xbox One и PC одинаковые;Средние пользовательские рейтинги жанров Action и Sports разные.\n",
    "- [x]  в каждом этапе есть выводы\n",
    "- [ ]  есть общий вывод"
   ]
  }
 ],
 "metadata": {
  "ExecuteTimeLog": [
   {
    "duration": 607,
    "start_time": "2022-02-09T13:51:03.388Z"
   },
   {
    "duration": 44,
    "start_time": "2022-02-09T14:00:30.684Z"
   },
   {
    "duration": 50,
    "start_time": "2022-02-09T14:01:27.282Z"
   },
   {
    "duration": 53,
    "start_time": "2022-02-09T14:04:01.197Z"
   },
   {
    "duration": 1279,
    "start_time": "2022-02-09T14:10:02.359Z"
   },
   {
    "duration": 50,
    "start_time": "2022-02-09T14:10:19.964Z"
   },
   {
    "duration": 324,
    "start_time": "2022-02-09T14:16:52.545Z"
   },
   {
    "duration": 15,
    "start_time": "2022-02-09T14:42:20.268Z"
   },
   {
    "duration": 15,
    "start_time": "2022-02-09T14:43:33.789Z"
   },
   {
    "duration": 329,
    "start_time": "2022-02-09T15:01:36.824Z"
   },
   {
    "duration": 1134,
    "start_time": "2022-02-09T15:01:50.439Z"
   },
   {
    "duration": 14,
    "start_time": "2022-02-09T15:01:51.575Z"
   },
   {
    "duration": 576,
    "start_time": "2022-02-09T15:01:51.591Z"
   },
   {
    "duration": 537,
    "start_time": "2022-02-09T15:11:27.454Z"
   },
   {
    "duration": 545,
    "start_time": "2022-02-09T15:13:02.454Z"
   },
   {
    "duration": 532,
    "start_time": "2022-02-09T15:13:10.730Z"
   },
   {
    "duration": 570,
    "start_time": "2022-02-09T15:13:38.590Z"
   },
   {
    "duration": 49,
    "start_time": "2022-02-09T15:20:54.487Z"
   },
   {
    "duration": 589,
    "start_time": "2022-02-09T15:21:00.950Z"
   },
   {
    "duration": 1124,
    "start_time": "2022-02-09T15:21:35.931Z"
   },
   {
    "duration": 13,
    "start_time": "2022-02-09T15:21:37.057Z"
   },
   {
    "duration": 630,
    "start_time": "2022-02-09T15:21:37.072Z"
   },
   {
    "duration": 607,
    "start_time": "2022-02-09T15:22:50.190Z"
   },
   {
    "duration": 5,
    "start_time": "2022-02-09T15:42:53.355Z"
   },
   {
    "duration": 9,
    "start_time": "2022-02-09T15:47:01.155Z"
   },
   {
    "duration": 13,
    "start_time": "2022-02-09T15:48:04.217Z"
   },
   {
    "duration": 15,
    "start_time": "2022-02-09T15:49:20.587Z"
   },
   {
    "duration": 3,
    "start_time": "2022-02-09T15:53:31.056Z"
   },
   {
    "duration": 1302,
    "start_time": "2022-02-10T12:11:23.944Z"
   },
   {
    "duration": 22,
    "start_time": "2022-02-10T12:11:25.249Z"
   },
   {
    "duration": 756,
    "start_time": "2022-02-10T12:11:25.274Z"
   },
   {
    "duration": 3,
    "start_time": "2022-02-10T12:11:26.032Z"
   },
   {
    "duration": 7,
    "start_time": "2022-02-10T12:23:11.619Z"
   },
   {
    "duration": 10,
    "start_time": "2022-02-10T12:23:42.249Z"
   },
   {
    "duration": 8,
    "start_time": "2022-02-10T12:23:49.044Z"
   },
   {
    "duration": 12,
    "start_time": "2022-02-10T12:26:34.154Z"
   },
   {
    "duration": 8,
    "start_time": "2022-02-10T12:27:01.777Z"
   },
   {
    "duration": 28,
    "start_time": "2022-02-10T12:27:51.707Z"
   },
   {
    "duration": 431,
    "start_time": "2022-02-10T12:28:26.126Z"
   },
   {
    "duration": 12,
    "start_time": "2022-02-10T12:28:49.271Z"
   },
   {
    "duration": 7,
    "start_time": "2022-02-10T12:29:33.170Z"
   },
   {
    "duration": 268,
    "start_time": "2022-02-10T12:29:52.066Z"
   },
   {
    "duration": 21,
    "start_time": "2022-02-10T12:30:39.976Z"
   },
   {
    "duration": 25,
    "start_time": "2022-02-10T12:31:33.200Z"
   },
   {
    "duration": 248,
    "start_time": "2022-02-10T12:43:41.145Z"
   },
   {
    "duration": 12,
    "start_time": "2022-02-10T12:43:52.478Z"
   },
   {
    "duration": 14,
    "start_time": "2022-02-10T12:44:17.236Z"
   },
   {
    "duration": 7,
    "start_time": "2022-02-10T12:44:32.423Z"
   },
   {
    "duration": 12,
    "start_time": "2022-02-10T12:45:02.950Z"
   },
   {
    "duration": 8,
    "start_time": "2022-02-10T12:45:41.868Z"
   },
   {
    "duration": 12,
    "start_time": "2022-02-10T12:45:50.045Z"
   },
   {
    "duration": 12,
    "start_time": "2022-02-10T12:46:07.590Z"
   },
   {
    "duration": 12,
    "start_time": "2022-02-10T12:46:16.934Z"
   },
   {
    "duration": 7,
    "start_time": "2022-02-10T12:49:48.582Z"
   },
   {
    "duration": 12,
    "start_time": "2022-02-10T12:51:22.478Z"
   },
   {
    "duration": 14,
    "start_time": "2022-02-10T13:11:39.575Z"
   },
   {
    "duration": 14,
    "start_time": "2022-02-10T13:11:54.458Z"
   },
   {
    "duration": 1338,
    "start_time": "2022-02-10T13:17:19.494Z"
   },
   {
    "duration": 19,
    "start_time": "2022-02-10T13:17:20.834Z"
   },
   {
    "duration": 704,
    "start_time": "2022-02-10T13:17:20.856Z"
   },
   {
    "duration": 15,
    "start_time": "2022-02-10T13:17:21.562Z"
   },
   {
    "duration": 17,
    "start_time": "2022-02-10T13:18:29.669Z"
   },
   {
    "duration": 19,
    "start_time": "2022-02-10T13:20:43.536Z"
   },
   {
    "duration": 20,
    "start_time": "2022-02-10T13:21:45.597Z"
   },
   {
    "duration": 32,
    "start_time": "2022-02-10T13:25:45.220Z"
   },
   {
    "duration": 38,
    "start_time": "2022-02-10T13:32:34.124Z"
   },
   {
    "duration": 30,
    "start_time": "2022-02-10T13:33:15.147Z"
   },
   {
    "duration": 40,
    "start_time": "2022-02-10T13:34:04.574Z"
   },
   {
    "duration": 40,
    "start_time": "2022-02-10T13:39:41.804Z"
   },
   {
    "duration": 42,
    "start_time": "2022-02-10T13:40:18.884Z"
   },
   {
    "duration": 41,
    "start_time": "2022-02-10T13:41:10.868Z"
   },
   {
    "duration": 84,
    "start_time": "2022-02-10T14:05:24.007Z"
   },
   {
    "duration": 19,
    "start_time": "2022-02-10T14:06:04.980Z"
   },
   {
    "duration": 14,
    "start_time": "2022-02-10T14:13:03.094Z"
   },
   {
    "duration": 12,
    "start_time": "2022-02-10T14:16:27.016Z"
   },
   {
    "duration": 1249,
    "start_time": "2022-02-11T07:12:28.411Z"
   },
   {
    "duration": 19,
    "start_time": "2022-02-11T07:12:29.662Z"
   },
   {
    "duration": 703,
    "start_time": "2022-02-11T07:12:29.683Z"
   },
   {
    "duration": 40,
    "start_time": "2022-02-11T07:12:30.388Z"
   },
   {
    "duration": 12,
    "start_time": "2022-02-11T07:12:30.430Z"
   },
   {
    "duration": 17,
    "start_time": "2022-02-11T07:14:23.211Z"
   },
   {
    "duration": 21,
    "start_time": "2022-02-11T07:15:29.966Z"
   },
   {
    "duration": 1240,
    "start_time": "2022-02-14T14:01:25.486Z"
   },
   {
    "duration": 17,
    "start_time": "2022-02-14T14:01:26.729Z"
   },
   {
    "duration": 651,
    "start_time": "2022-02-14T14:01:26.748Z"
   },
   {
    "duration": 48,
    "start_time": "2022-02-14T14:01:27.401Z"
   },
   {
    "duration": 20,
    "start_time": "2022-02-14T14:01:27.451Z"
   },
   {
    "duration": 18,
    "start_time": "2022-02-14T14:03:29.535Z"
   },
   {
    "duration": 1693,
    "start_time": "2022-02-14T14:03:59.904Z"
   },
   {
    "duration": 21,
    "start_time": "2022-02-14T14:04:01.599Z"
   },
   {
    "duration": 631,
    "start_time": "2022-02-14T14:04:01.622Z"
   },
   {
    "duration": 36,
    "start_time": "2022-02-14T14:04:02.255Z"
   },
   {
    "duration": 32,
    "start_time": "2022-02-14T14:04:02.293Z"
   },
   {
    "duration": 94,
    "start_time": "2022-02-14T14:15:35.488Z"
   },
   {
    "duration": 12,
    "start_time": "2022-02-14T14:16:00.219Z"
   },
   {
    "duration": 1302,
    "start_time": "2022-02-14T14:21:59.099Z"
   },
   {
    "duration": 22,
    "start_time": "2022-02-14T14:22:00.403Z"
   },
   {
    "duration": 666,
    "start_time": "2022-02-14T14:22:00.427Z"
   },
   {
    "duration": 53,
    "start_time": "2022-02-14T14:22:01.095Z"
   },
   {
    "duration": 14,
    "start_time": "2022-02-14T14:22:01.150Z"
   },
   {
    "duration": 12,
    "start_time": "2022-02-14T14:22:01.165Z"
   },
   {
    "duration": 52,
    "start_time": "2022-02-14T14:34:36.085Z"
   },
   {
    "duration": 451,
    "start_time": "2022-02-14T14:36:39.410Z"
   },
   {
    "duration": 1209,
    "start_time": "2022-02-14T14:36:56.717Z"
   },
   {
    "duration": 16,
    "start_time": "2022-02-14T14:36:57.928Z"
   },
   {
    "duration": 636,
    "start_time": "2022-02-14T14:36:57.946Z"
   },
   {
    "duration": 56,
    "start_time": "2022-02-14T14:36:58.585Z"
   },
   {
    "duration": 16,
    "start_time": "2022-02-14T14:36:58.643Z"
   },
   {
    "duration": 235,
    "start_time": "2022-02-14T14:36:58.661Z"
   },
   {
    "duration": 193,
    "start_time": "2022-02-14T14:42:13.014Z"
   },
   {
    "duration": 15,
    "start_time": "2022-02-14T14:44:36.018Z"
   },
   {
    "duration": 172,
    "start_time": "2022-02-14T14:45:59.799Z"
   },
   {
    "duration": 171,
    "start_time": "2022-02-14T14:46:25.770Z"
   },
   {
    "duration": 192,
    "start_time": "2022-02-14T14:49:21.808Z"
   },
   {
    "duration": 267,
    "start_time": "2022-02-14T14:50:10.192Z"
   },
   {
    "duration": 993,
    "start_time": "2022-02-14T15:05:29.784Z"
   },
   {
    "duration": 467,
    "start_time": "2022-02-14T15:05:46.577Z"
   },
   {
    "duration": 536,
    "start_time": "2022-02-14T15:08:39.298Z"
   },
   {
    "duration": 484,
    "start_time": "2022-02-14T15:08:53.304Z"
   },
   {
    "duration": 521,
    "start_time": "2022-02-14T15:12:39.559Z"
   },
   {
    "duration": 357,
    "start_time": "2022-02-14T15:16:08.385Z"
   },
   {
    "duration": 349,
    "start_time": "2022-02-14T15:29:12.914Z"
   },
   {
    "duration": 365,
    "start_time": "2022-02-14T15:30:39.530Z"
   },
   {
    "duration": 466,
    "start_time": "2022-02-14T15:57:49.890Z"
   },
   {
    "duration": 450,
    "start_time": "2022-02-14T16:03:24.732Z"
   },
   {
    "duration": 202,
    "start_time": "2022-02-14T16:03:41.795Z"
   },
   {
    "duration": 382,
    "start_time": "2022-02-14T16:04:06.151Z"
   },
   {
    "duration": 1228,
    "start_time": "2022-02-25T14:41:35.621Z"
   },
   {
    "duration": 18,
    "start_time": "2022-02-25T14:41:36.851Z"
   },
   {
    "duration": 698,
    "start_time": "2022-02-25T14:41:36.871Z"
   },
   {
    "duration": 53,
    "start_time": "2022-02-25T14:41:37.571Z"
   },
   {
    "duration": 16,
    "start_time": "2022-02-25T14:41:37.626Z"
   },
   {
    "duration": 235,
    "start_time": "2022-02-25T14:41:37.643Z"
   },
   {
    "duration": 406,
    "start_time": "2022-02-25T14:41:37.880Z"
   },
   {
    "duration": 9,
    "start_time": "2022-02-25T15:08:50.592Z"
   },
   {
    "duration": 7,
    "start_time": "2022-02-25T15:09:50.923Z"
   },
   {
    "duration": 336,
    "start_time": "2022-02-25T15:16:26.938Z"
   },
   {
    "duration": 371,
    "start_time": "2022-02-25T15:17:15.245Z"
   },
   {
    "duration": 354,
    "start_time": "2022-02-25T15:17:31.296Z"
   },
   {
    "duration": 358,
    "start_time": "2022-02-25T15:18:04.966Z"
   },
   {
    "duration": 422,
    "start_time": "2022-02-25T15:18:40.557Z"
   },
   {
    "duration": 505,
    "start_time": "2022-02-25T15:32:27.265Z"
   },
   {
    "duration": 8,
    "start_time": "2022-02-25T15:33:10.506Z"
   },
   {
    "duration": 60,
    "start_time": "2022-02-25T15:33:33.600Z"
   },
   {
    "duration": 431,
    "start_time": "2022-02-25T15:33:50.393Z"
   },
   {
    "duration": 7,
    "start_time": "2022-02-25T15:34:59.263Z"
   },
   {
    "duration": 424,
    "start_time": "2022-02-25T15:36:16.740Z"
   },
   {
    "duration": 111,
    "start_time": "2022-02-25T15:41:05.339Z"
   },
   {
    "duration": 7,
    "start_time": "2022-02-25T15:43:28.700Z"
   },
   {
    "duration": 281,
    "start_time": "2022-02-25T15:43:36.990Z"
   },
   {
    "duration": 483,
    "start_time": "2022-02-25T15:44:10.483Z"
   },
   {
    "duration": 488,
    "start_time": "2022-02-25T15:45:14.937Z"
   },
   {
    "duration": 266,
    "start_time": "2022-02-25T15:45:26.667Z"
   },
   {
    "duration": 858,
    "start_time": "2022-02-25T15:45:54.105Z"
   },
   {
    "duration": 296,
    "start_time": "2022-02-25T15:46:20.450Z"
   },
   {
    "duration": 359,
    "start_time": "2022-02-25T16:07:21.625Z"
   },
   {
    "duration": 536,
    "start_time": "2022-02-25T16:08:00.230Z"
   },
   {
    "duration": 537,
    "start_time": "2022-02-25T16:13:16.415Z"
   },
   {
    "duration": 505,
    "start_time": "2022-02-25T16:13:35.300Z"
   },
   {
    "duration": 477,
    "start_time": "2022-02-25T16:15:29.931Z"
   },
   {
    "duration": 280,
    "start_time": "2022-02-25T16:19:15.647Z"
   },
   {
    "duration": 135,
    "start_time": "2022-02-25T16:24:12.195Z"
   },
   {
    "duration": 1132,
    "start_time": "2022-02-25T16:24:22.021Z"
   },
   {
    "duration": 17,
    "start_time": "2022-02-25T16:24:23.155Z"
   },
   {
    "duration": 681,
    "start_time": "2022-02-25T16:24:23.174Z"
   },
   {
    "duration": 38,
    "start_time": "2022-02-25T16:24:23.857Z"
   },
   {
    "duration": 32,
    "start_time": "2022-02-25T16:24:23.896Z"
   },
   {
    "duration": 224,
    "start_time": "2022-02-25T16:24:23.929Z"
   },
   {
    "duration": 399,
    "start_time": "2022-02-25T16:24:24.155Z"
   },
   {
    "duration": 354,
    "start_time": "2022-02-25T16:24:24.557Z"
   },
   {
    "duration": 11,
    "start_time": "2022-02-25T16:24:24.913Z"
   },
   {
    "duration": 296,
    "start_time": "2022-02-25T16:24:24.925Z"
   },
   {
    "duration": 604,
    "start_time": "2022-02-25T16:24:25.223Z"
   },
   {
    "duration": 830,
    "start_time": "2022-02-25T16:34:03.138Z"
   },
   {
    "duration": 747,
    "start_time": "2022-02-25T16:35:03.132Z"
   },
   {
    "duration": 734,
    "start_time": "2022-02-25T16:35:43.541Z"
   },
   {
    "duration": 904,
    "start_time": "2022-02-25T16:37:29.118Z"
   },
   {
    "duration": 848,
    "start_time": "2022-02-25T16:37:52.380Z"
   },
   {
    "duration": 1533,
    "start_time": "2022-02-26T07:39:12.772Z"
   },
   {
    "duration": 30,
    "start_time": "2022-02-26T07:39:14.308Z"
   },
   {
    "duration": 993,
    "start_time": "2022-02-26T07:39:14.341Z"
   },
   {
    "duration": 59,
    "start_time": "2022-02-26T07:39:15.337Z"
   },
   {
    "duration": 26,
    "start_time": "2022-02-26T07:39:15.427Z"
   },
   {
    "duration": 346,
    "start_time": "2022-02-26T07:39:15.455Z"
   },
   {
    "duration": 674,
    "start_time": "2022-02-26T07:39:15.803Z"
   },
   {
    "duration": 612,
    "start_time": "2022-02-26T07:39:16.480Z"
   },
   {
    "duration": 10,
    "start_time": "2022-02-26T07:39:17.095Z"
   },
   {
    "duration": 465,
    "start_time": "2022-02-26T07:39:17.108Z"
   },
   {
    "duration": 1261,
    "start_time": "2022-02-26T07:39:17.576Z"
   },
   {
    "duration": 23,
    "start_time": "2022-02-26T07:41:18.183Z"
   },
   {
    "duration": 1643,
    "start_time": "2022-02-26T07:41:29.094Z"
   },
   {
    "duration": 27,
    "start_time": "2022-02-26T07:41:30.740Z"
   },
   {
    "duration": 947,
    "start_time": "2022-02-26T07:41:30.770Z"
   },
   {
    "duration": 60,
    "start_time": "2022-02-26T07:41:31.720Z"
   },
   {
    "duration": 56,
    "start_time": "2022-02-26T07:41:31.782Z"
   },
   {
    "duration": 357,
    "start_time": "2022-02-26T07:41:31.841Z"
   },
   {
    "duration": 638,
    "start_time": "2022-02-26T07:41:32.200Z"
   },
   {
    "duration": 584,
    "start_time": "2022-02-26T07:41:32.842Z"
   },
   {
    "duration": 10,
    "start_time": "2022-02-26T07:41:33.429Z"
   },
   {
    "duration": 500,
    "start_time": "2022-02-26T07:41:33.442Z"
   },
   {
    "duration": 1341,
    "start_time": "2022-02-26T07:41:33.945Z"
   },
   {
    "duration": 78,
    "start_time": "2022-02-26T07:44:24.001Z"
   },
   {
    "duration": 535,
    "start_time": "2022-02-26T07:45:30.823Z"
   },
   {
    "duration": 1312,
    "start_time": "2022-02-26T07:53:52.903Z"
   },
   {
    "duration": 361,
    "start_time": "2022-02-26T07:54:01.516Z"
   },
   {
    "duration": 312,
    "start_time": "2022-02-26T07:54:11.151Z"
   },
   {
    "duration": 416,
    "start_time": "2022-02-26T07:54:18.395Z"
   },
   {
    "duration": 246,
    "start_time": "2022-02-26T07:59:02.010Z"
   },
   {
    "duration": 397,
    "start_time": "2022-02-26T07:59:28.620Z"
   },
   {
    "duration": 780,
    "start_time": "2022-02-26T07:59:51.619Z"
   },
   {
    "duration": 672,
    "start_time": "2022-02-26T08:00:29.045Z"
   },
   {
    "duration": 656,
    "start_time": "2022-02-26T08:01:06.079Z"
   },
   {
    "duration": 340,
    "start_time": "2022-02-26T08:01:21.845Z"
   },
   {
    "duration": 408,
    "start_time": "2022-02-26T08:04:31.109Z"
   },
   {
    "duration": 385,
    "start_time": "2022-02-26T08:05:09.465Z"
   },
   {
    "duration": 430,
    "start_time": "2022-02-26T08:05:34.981Z"
   },
   {
    "duration": 663,
    "start_time": "2022-02-26T08:24:10.745Z"
   },
   {
    "duration": 294,
    "start_time": "2022-02-26T08:44:12.260Z"
   },
   {
    "duration": 457,
    "start_time": "2022-02-26T08:44:44.195Z"
   },
   {
    "duration": 1056,
    "start_time": "2022-02-26T08:45:55.362Z"
   },
   {
    "duration": 549,
    "start_time": "2022-02-26T08:46:31.937Z"
   },
   {
    "duration": 1478,
    "start_time": "2022-02-26T08:46:55.902Z"
   },
   {
    "duration": 852,
    "start_time": "2022-02-26T08:47:10.237Z"
   },
   {
    "duration": 1114,
    "start_time": "2022-02-26T08:48:31.634Z"
   },
   {
    "duration": 3314,
    "start_time": "2022-02-26T08:50:56.052Z"
   },
   {
    "duration": 1462,
    "start_time": "2022-02-26T08:51:52.912Z"
   },
   {
    "duration": 3255,
    "start_time": "2022-02-26T08:52:27.617Z"
   },
   {
    "duration": 3430,
    "start_time": "2022-02-26T08:53:06.315Z"
   },
   {
    "duration": 3661,
    "start_time": "2022-02-26T08:54:04.753Z"
   },
   {
    "duration": 3233,
    "start_time": "2022-02-26T08:54:22.296Z"
   },
   {
    "duration": 3382,
    "start_time": "2022-02-26T08:56:46.665Z"
   },
   {
    "duration": 3092,
    "start_time": "2022-02-26T08:57:10.000Z"
   },
   {
    "duration": 3043,
    "start_time": "2022-02-26T08:58:51.189Z"
   },
   {
    "duration": 3264,
    "start_time": "2022-02-26T08:59:10.644Z"
   },
   {
    "duration": 3683,
    "start_time": "2022-02-26T08:59:47.048Z"
   },
   {
    "duration": 5590,
    "start_time": "2022-02-26T09:00:36.482Z"
   },
   {
    "duration": 3581,
    "start_time": "2022-02-26T09:00:47.095Z"
   },
   {
    "duration": 4874,
    "start_time": "2022-02-26T09:01:47.936Z"
   },
   {
    "duration": 1157,
    "start_time": "2022-02-26T14:10:46.473Z"
   },
   {
    "duration": 18,
    "start_time": "2022-02-26T14:10:47.632Z"
   },
   {
    "duration": 670,
    "start_time": "2022-02-26T14:10:47.652Z"
   },
   {
    "duration": 45,
    "start_time": "2022-02-26T14:10:48.324Z"
   },
   {
    "duration": 15,
    "start_time": "2022-02-26T14:10:48.371Z"
   },
   {
    "duration": 314,
    "start_time": "2022-02-26T14:10:48.387Z"
   },
   {
    "duration": 539,
    "start_time": "2022-02-26T14:10:48.703Z"
   },
   {
    "duration": 327,
    "start_time": "2022-02-26T14:10:49.245Z"
   },
   {
    "duration": 7,
    "start_time": "2022-02-26T14:10:49.575Z"
   },
   {
    "duration": 251,
    "start_time": "2022-02-26T14:10:49.584Z"
   },
   {
    "duration": 250,
    "start_time": "2022-02-26T14:10:49.837Z"
   },
   {
    "duration": 879,
    "start_time": "2022-02-26T14:10:50.089Z"
   },
   {
    "duration": 411,
    "start_time": "2022-02-26T14:10:50.970Z"
   },
   {
    "duration": 1658,
    "start_time": "2022-02-26T14:10:51.383Z"
   },
   {
    "duration": 1315,
    "start_time": "2022-02-26T14:11:18.663Z"
   },
   {
    "duration": 6,
    "start_time": "2022-02-26T14:18:04.094Z"
   },
   {
    "duration": 7,
    "start_time": "2022-02-26T14:21:01.472Z"
   },
   {
    "duration": 10,
    "start_time": "2022-02-26T14:21:07.215Z"
   },
   {
    "duration": 9,
    "start_time": "2022-02-26T14:23:36.908Z"
   },
   {
    "duration": 11,
    "start_time": "2022-02-26T14:27:19.488Z"
   },
   {
    "duration": 12,
    "start_time": "2022-02-26T14:27:35.058Z"
   },
   {
    "duration": 11,
    "start_time": "2022-02-26T14:27:46.893Z"
   },
   {
    "duration": 10,
    "start_time": "2022-02-26T14:27:58.542Z"
   },
   {
    "duration": 10,
    "start_time": "2022-02-26T14:28:05.939Z"
   },
   {
    "duration": 13,
    "start_time": "2022-02-26T14:28:20.105Z"
   },
   {
    "duration": 1328,
    "start_time": "2022-02-26T14:28:48.969Z"
   },
   {
    "duration": 1372,
    "start_time": "2022-02-26T14:29:12.956Z"
   },
   {
    "duration": 226,
    "start_time": "2022-02-26T14:33:14.818Z"
   },
   {
    "duration": 1142,
    "start_time": "2022-02-26T14:33:28.790Z"
   },
   {
    "duration": 18,
    "start_time": "2022-02-26T14:33:29.934Z"
   },
   {
    "duration": 618,
    "start_time": "2022-02-26T14:33:29.954Z"
   },
   {
    "duration": 37,
    "start_time": "2022-02-26T14:33:30.575Z"
   },
   {
    "duration": 32,
    "start_time": "2022-02-26T14:33:30.613Z"
   },
   {
    "duration": 206,
    "start_time": "2022-02-26T14:33:30.647Z"
   },
   {
    "duration": 392,
    "start_time": "2022-02-26T14:33:30.855Z"
   },
   {
    "duration": 467,
    "start_time": "2022-02-26T14:33:31.250Z"
   },
   {
    "duration": 15,
    "start_time": "2022-02-26T14:33:31.720Z"
   },
   {
    "duration": 338,
    "start_time": "2022-02-26T14:33:31.737Z"
   },
   {
    "duration": 359,
    "start_time": "2022-02-26T14:33:32.076Z"
   },
   {
    "duration": 954,
    "start_time": "2022-02-26T14:33:32.437Z"
   },
   {
    "duration": 383,
    "start_time": "2022-02-26T14:33:33.392Z"
   },
   {
    "duration": 1248,
    "start_time": "2022-02-26T14:33:33.777Z"
   },
   {
    "duration": 21,
    "start_time": "2022-02-26T14:33:35.028Z"
   },
   {
    "duration": 11,
    "start_time": "2022-02-26T14:36:49.807Z"
   },
   {
    "duration": 12,
    "start_time": "2022-02-26T14:39:20.984Z"
   },
   {
    "duration": 293,
    "start_time": "2022-02-26T14:44:29.796Z"
   },
   {
    "duration": 14,
    "start_time": "2022-02-26T14:44:44.095Z"
   },
   {
    "duration": 2347,
    "start_time": "2022-02-26T14:48:54.094Z"
   },
   {
    "duration": 16,
    "start_time": "2022-02-26T14:49:59.171Z"
   },
   {
    "duration": 33,
    "start_time": "2022-02-26T14:57:11.070Z"
   },
   {
    "duration": 19,
    "start_time": "2022-02-26T14:58:43.827Z"
   },
   {
    "duration": 36,
    "start_time": "2022-02-26T14:59:01.761Z"
   },
   {
    "duration": 32,
    "start_time": "2022-02-26T15:02:09.502Z"
   },
   {
    "duration": 51,
    "start_time": "2022-02-26T15:02:36.406Z"
   },
   {
    "duration": 31,
    "start_time": "2022-02-26T15:03:45.259Z"
   },
   {
    "duration": 245,
    "start_time": "2022-02-26T15:04:39.743Z"
   },
   {
    "duration": 239,
    "start_time": "2022-02-26T15:05:01.553Z"
   },
   {
    "duration": 34,
    "start_time": "2022-02-26T15:06:10.484Z"
   },
   {
    "duration": 22,
    "start_time": "2022-02-26T15:06:55.020Z"
   },
   {
    "duration": 13,
    "start_time": "2022-02-26T15:12:05.977Z"
   },
   {
    "duration": 19,
    "start_time": "2022-02-26T15:13:57.694Z"
   },
   {
    "duration": 14,
    "start_time": "2022-02-26T15:14:20.093Z"
   },
   {
    "duration": 14,
    "start_time": "2022-02-26T15:15:37.753Z"
   },
   {
    "duration": 15,
    "start_time": "2022-02-26T15:18:04.200Z"
   },
   {
    "duration": 16,
    "start_time": "2022-02-26T15:18:29.200Z"
   },
   {
    "duration": 1095,
    "start_time": "2022-03-07T08:05:54.094Z"
   },
   {
    "duration": 14,
    "start_time": "2022-03-07T08:05:55.191Z"
   },
   {
    "duration": 556,
    "start_time": "2022-03-07T08:05:55.206Z"
   },
   {
    "duration": 46,
    "start_time": "2022-03-07T08:05:55.764Z"
   },
   {
    "duration": 13,
    "start_time": "2022-03-07T08:05:55.811Z"
   },
   {
    "duration": 182,
    "start_time": "2022-03-07T08:05:55.825Z"
   },
   {
    "duration": 346,
    "start_time": "2022-03-07T08:05:56.009Z"
   },
   {
    "duration": 296,
    "start_time": "2022-03-07T08:05:56.356Z"
   },
   {
    "duration": 5,
    "start_time": "2022-03-07T08:05:56.654Z"
   },
   {
    "duration": 213,
    "start_time": "2022-03-07T08:05:56.661Z"
   },
   {
    "duration": 231,
    "start_time": "2022-03-07T08:05:56.876Z"
   },
   {
    "duration": 808,
    "start_time": "2022-03-07T08:05:57.109Z"
   },
   {
    "duration": 345,
    "start_time": "2022-03-07T08:05:57.919Z"
   },
   {
    "duration": 1140,
    "start_time": "2022-03-07T08:05:58.265Z"
   },
   {
    "duration": 16,
    "start_time": "2022-03-07T08:05:59.407Z"
   },
   {
    "duration": 12,
    "start_time": "2022-03-07T08:05:59.424Z"
   },
   {
    "duration": 17,
    "start_time": "2022-03-07T08:14:19.390Z"
   },
   {
    "duration": 16,
    "start_time": "2022-03-07T08:18:27.330Z"
   },
   {
    "duration": 16,
    "start_time": "2022-03-07T08:19:18.578Z"
   },
   {
    "duration": 1197,
    "start_time": "2022-03-08T12:27:04.753Z"
   },
   {
    "duration": 18,
    "start_time": "2022-03-08T12:27:05.952Z"
   },
   {
    "duration": 678,
    "start_time": "2022-03-08T12:27:05.972Z"
   },
   {
    "duration": 40,
    "start_time": "2022-03-08T12:27:06.652Z"
   },
   {
    "duration": 45,
    "start_time": "2022-03-08T12:27:06.694Z"
   },
   {
    "duration": 230,
    "start_time": "2022-03-08T12:27:06.741Z"
   },
   {
    "duration": 395,
    "start_time": "2022-03-08T12:27:06.973Z"
   },
   {
    "duration": 346,
    "start_time": "2022-03-08T12:27:07.370Z"
   },
   {
    "duration": 7,
    "start_time": "2022-03-08T12:27:07.717Z"
   },
   {
    "duration": 243,
    "start_time": "2022-03-08T12:27:07.725Z"
   },
   {
    "duration": 251,
    "start_time": "2022-03-08T12:27:07.970Z"
   },
   {
    "duration": 964,
    "start_time": "2022-03-08T12:27:08.222Z"
   },
   {
    "duration": 422,
    "start_time": "2022-03-08T12:27:09.188Z"
   },
   {
    "duration": 1351,
    "start_time": "2022-03-08T12:27:09.612Z"
   },
   {
    "duration": 19,
    "start_time": "2022-03-08T12:27:10.965Z"
   },
   {
    "duration": 20,
    "start_time": "2022-03-08T12:27:10.986Z"
   },
   {
    "duration": 1532,
    "start_time": "2022-03-09T07:20:02.668Z"
   },
   {
    "duration": 22,
    "start_time": "2022-03-09T07:20:04.202Z"
   },
   {
    "duration": 945,
    "start_time": "2022-03-09T07:20:04.227Z"
   },
   {
    "duration": 56,
    "start_time": "2022-03-09T07:20:05.183Z"
   },
   {
    "duration": 47,
    "start_time": "2022-03-09T07:20:05.241Z"
   },
   {
    "duration": 324,
    "start_time": "2022-03-09T07:20:05.290Z"
   },
   {
    "duration": 603,
    "start_time": "2022-03-09T07:20:05.616Z"
   },
   {
    "duration": 520,
    "start_time": "2022-03-09T07:20:06.223Z"
   },
   {
    "duration": 10,
    "start_time": "2022-03-09T07:20:06.745Z"
   },
   {
    "duration": 365,
    "start_time": "2022-03-09T07:20:06.757Z"
   },
   {
    "duration": 398,
    "start_time": "2022-03-09T07:20:07.124Z"
   },
   {
    "duration": 1274,
    "start_time": "2022-03-09T07:20:07.525Z"
   },
   {
    "duration": 622,
    "start_time": "2022-03-09T07:20:08.802Z"
   },
   {
    "duration": 2185,
    "start_time": "2022-03-09T07:20:09.427Z"
   },
   {
    "duration": 28,
    "start_time": "2022-03-09T07:20:11.615Z"
   },
   {
    "duration": 51,
    "start_time": "2022-03-09T07:20:11.645Z"
   },
   {
    "duration": 495,
    "start_time": "2022-03-09T08:37:47.987Z"
   },
   {
    "duration": 460,
    "start_time": "2022-03-09T08:38:44.596Z"
   },
   {
    "duration": 272,
    "start_time": "2022-03-09T08:39:17.023Z"
   },
   {
    "duration": 500,
    "start_time": "2022-03-09T08:39:45.928Z"
   },
   {
    "duration": 504,
    "start_time": "2022-03-09T08:40:00.735Z"
   },
   {
    "duration": 586,
    "start_time": "2022-03-09T08:46:18.531Z"
   },
   {
    "duration": 699,
    "start_time": "2022-03-09T08:49:30.257Z"
   },
   {
    "duration": 689,
    "start_time": "2022-03-09T08:55:53.837Z"
   },
   {
    "duration": 583,
    "start_time": "2022-03-09T08:59:20.551Z"
   },
   {
    "duration": 9,
    "start_time": "2022-03-09T09:06:30.954Z"
   },
   {
    "duration": 349,
    "start_time": "2022-03-09T09:06:38.658Z"
   },
   {
    "duration": 1201,
    "start_time": "2022-03-09T09:07:57.486Z"
   },
   {
    "duration": 119,
    "start_time": "2022-03-09T09:25:57.500Z"
   },
   {
    "duration": 10,
    "start_time": "2022-03-09T09:26:08.911Z"
   },
   {
    "duration": 369,
    "start_time": "2022-03-09T09:29:27.321Z"
   },
   {
    "duration": 5235,
    "start_time": "2022-03-09T09:40:32.479Z"
   },
   {
    "duration": 5437,
    "start_time": "2022-03-09T09:41:08.818Z"
   },
   {
    "duration": 5298,
    "start_time": "2022-03-09T09:44:02.274Z"
   },
   {
    "duration": 5228,
    "start_time": "2022-03-09T09:44:38.448Z"
   },
   {
    "duration": 5188,
    "start_time": "2022-03-09T09:45:04.055Z"
   },
   {
    "duration": 97,
    "start_time": "2022-03-09T09:46:03.950Z"
   },
   {
    "duration": 5263,
    "start_time": "2022-03-09T09:46:12.752Z"
   },
   {
    "duration": 14240,
    "start_time": "2022-03-09T09:47:20.294Z"
   },
   {
    "duration": 1256,
    "start_time": "2022-03-09T13:44:58.991Z"
   },
   {
    "duration": 15,
    "start_time": "2022-03-09T13:45:00.249Z"
   },
   {
    "duration": 786,
    "start_time": "2022-03-09T13:45:00.266Z"
   },
   {
    "duration": 61,
    "start_time": "2022-03-09T13:45:01.054Z"
   },
   {
    "duration": 24,
    "start_time": "2022-03-09T13:45:01.118Z"
   },
   {
    "duration": 264,
    "start_time": "2022-03-09T13:45:01.144Z"
   },
   {
    "duration": 412,
    "start_time": "2022-03-09T13:45:01.410Z"
   },
   {
    "duration": 454,
    "start_time": "2022-03-09T13:45:01.826Z"
   },
   {
    "duration": 18,
    "start_time": "2022-03-09T13:45:02.283Z"
   },
   {
    "duration": 265,
    "start_time": "2022-03-09T13:45:02.304Z"
   },
   {
    "duration": 272,
    "start_time": "2022-03-09T13:45:02.571Z"
   },
   {
    "duration": 976,
    "start_time": "2022-03-09T13:45:02.845Z"
   },
   {
    "duration": 7,
    "start_time": "2022-03-09T13:45:03.823Z"
   },
   {
    "duration": 10376,
    "start_time": "2022-03-09T13:45:03.832Z"
   },
   {
    "duration": 623,
    "start_time": "2022-03-09T13:45:14.211Z"
   },
   {
    "duration": 1520,
    "start_time": "2022-03-09T13:45:14.836Z"
   },
   {
    "duration": 19,
    "start_time": "2022-03-09T13:45:16.358Z"
   },
   {
    "duration": 34,
    "start_time": "2022-03-09T13:45:16.378Z"
   },
   {
    "duration": 890,
    "start_time": "2022-03-09T13:50:36.879Z"
   },
   {
    "duration": 870,
    "start_time": "2022-03-09T13:52:52.919Z"
   },
   {
    "duration": 1298,
    "start_time": "2022-03-09T13:54:56.479Z"
   },
   {
    "duration": 425,
    "start_time": "2022-03-09T13:56:35.409Z"
   },
   {
    "duration": 157,
    "start_time": "2022-03-09T14:16:48.321Z"
   },
   {
    "duration": 14,
    "start_time": "2022-03-09T14:20:38.818Z"
   },
   {
    "duration": 19,
    "start_time": "2022-03-09T14:23:17.519Z"
   },
   {
    "duration": 330,
    "start_time": "2022-03-09T14:24:12.432Z"
   },
   {
    "duration": 22,
    "start_time": "2022-03-09T14:25:13.039Z"
   },
   {
    "duration": 25,
    "start_time": "2022-03-09T14:25:31.343Z"
   },
   {
    "duration": 20,
    "start_time": "2022-03-09T14:25:53.549Z"
   },
   {
    "duration": 22,
    "start_time": "2022-03-09T14:26:13.486Z"
   },
   {
    "duration": 86,
    "start_time": "2022-03-09T14:27:05.703Z"
   },
   {
    "duration": 19,
    "start_time": "2022-03-09T14:27:21.221Z"
   },
   {
    "duration": 21,
    "start_time": "2022-03-09T14:28:34.060Z"
   },
   {
    "duration": 73,
    "start_time": "2022-03-09T14:29:22.631Z"
   },
   {
    "duration": 26,
    "start_time": "2022-03-09T14:29:34.388Z"
   },
   {
    "duration": 26,
    "start_time": "2022-03-09T14:30:01.927Z"
   },
   {
    "duration": 27,
    "start_time": "2022-03-09T14:30:23.149Z"
   },
   {
    "duration": 40,
    "start_time": "2022-03-09T14:33:57.932Z"
   },
   {
    "duration": 281,
    "start_time": "2022-03-09T14:35:45.063Z"
   },
   {
    "duration": 43,
    "start_time": "2022-03-09T14:36:02.158Z"
   },
   {
    "duration": 73,
    "start_time": "2022-03-09T14:38:35.796Z"
   },
   {
    "duration": 21,
    "start_time": "2022-03-09T14:54:09.681Z"
   },
   {
    "duration": 13,
    "start_time": "2022-03-09T14:56:05.624Z"
   },
   {
    "duration": 15,
    "start_time": "2022-03-09T14:56:50.507Z"
   },
   {
    "duration": 13,
    "start_time": "2022-03-09T14:58:36.171Z"
   },
   {
    "duration": 12,
    "start_time": "2022-03-09T14:59:08.681Z"
   },
   {
    "duration": 1105,
    "start_time": "2022-03-10T14:34:35.487Z"
   },
   {
    "duration": 13,
    "start_time": "2022-03-10T14:34:36.593Z"
   },
   {
    "duration": 627,
    "start_time": "2022-03-10T14:34:36.608Z"
   },
   {
    "duration": 34,
    "start_time": "2022-03-10T14:34:37.237Z"
   },
   {
    "duration": 13,
    "start_time": "2022-03-10T14:34:37.273Z"
   },
   {
    "duration": 208,
    "start_time": "2022-03-10T14:34:37.288Z"
   },
   {
    "duration": 353,
    "start_time": "2022-03-10T14:34:37.497Z"
   },
   {
    "duration": 381,
    "start_time": "2022-03-10T14:34:37.852Z"
   },
   {
    "duration": 7,
    "start_time": "2022-03-10T14:34:38.234Z"
   },
   {
    "duration": 224,
    "start_time": "2022-03-10T14:34:38.242Z"
   },
   {
    "duration": 240,
    "start_time": "2022-03-10T14:34:38.468Z"
   },
   {
    "duration": 928,
    "start_time": "2022-03-10T14:34:38.709Z"
   },
   {
    "duration": 5,
    "start_time": "2022-03-10T14:34:39.638Z"
   },
   {
    "duration": 309,
    "start_time": "2022-03-10T14:34:39.644Z"
   },
   {
    "duration": 373,
    "start_time": "2022-03-10T14:34:39.955Z"
   },
   {
    "duration": 10,
    "start_time": "2022-03-10T14:34:40.333Z"
   },
   {
    "duration": 1228,
    "start_time": "2022-03-10T14:34:40.345Z"
   },
   {
    "duration": 93,
    "start_time": "2022-03-10T14:34:41.575Z"
   },
   {
    "duration": 16,
    "start_time": "2022-03-10T14:34:41.670Z"
   },
   {
    "duration": 14,
    "start_time": "2022-03-10T14:34:41.687Z"
   },
   {
    "duration": 17,
    "start_time": "2022-03-10T14:52:49.029Z"
   },
   {
    "duration": 4,
    "start_time": "2022-03-10T14:53:00.467Z"
   },
   {
    "duration": 1220,
    "start_time": "2022-03-11T01:56:44.437Z"
   },
   {
    "duration": 15,
    "start_time": "2022-03-11T01:56:45.659Z"
   },
   {
    "duration": 654,
    "start_time": "2022-03-11T01:56:45.677Z"
   },
   {
    "duration": 40,
    "start_time": "2022-03-11T01:56:46.333Z"
   },
   {
    "duration": 36,
    "start_time": "2022-03-11T01:56:46.375Z"
   },
   {
    "duration": 215,
    "start_time": "2022-03-11T01:56:46.413Z"
   },
   {
    "duration": 387,
    "start_time": "2022-03-11T01:56:46.629Z"
   },
   {
    "duration": 419,
    "start_time": "2022-03-11T01:56:47.019Z"
   },
   {
    "duration": 3,
    "start_time": "2022-03-11T01:56:47.440Z"
   },
   {
    "duration": 371,
    "start_time": "2022-03-11T01:56:47.445Z"
   },
   {
    "duration": 468,
    "start_time": "2022-03-11T01:56:47.818Z"
   },
   {
    "duration": 885,
    "start_time": "2022-03-11T01:56:48.288Z"
   },
   {
    "duration": 6,
    "start_time": "2022-03-11T01:56:49.175Z"
   },
   {
    "duration": 371,
    "start_time": "2022-03-11T01:56:49.183Z"
   },
   {
    "duration": 401,
    "start_time": "2022-03-11T01:56:49.555Z"
   },
   {
    "duration": 13,
    "start_time": "2022-03-11T01:56:49.957Z"
   },
   {
    "duration": 1410,
    "start_time": "2022-03-11T01:56:49.972Z"
   },
   {
    "duration": 79,
    "start_time": "2022-03-11T01:56:51.384Z"
   },
   {
    "duration": 45,
    "start_time": "2022-03-11T01:56:51.465Z"
   },
   {
    "duration": 18,
    "start_time": "2022-03-11T01:56:51.511Z"
   },
   {
    "duration": 75,
    "start_time": "2022-03-11T02:07:38.701Z"
   },
   {
    "duration": 76,
    "start_time": "2022-03-11T02:08:02.012Z"
   },
   {
    "duration": 1823,
    "start_time": "2022-03-11T21:11:58.409Z"
   },
   {
    "duration": 21,
    "start_time": "2022-03-11T21:12:00.235Z"
   },
   {
    "duration": 983,
    "start_time": "2022-03-11T21:12:00.259Z"
   },
   {
    "duration": 70,
    "start_time": "2022-03-11T21:12:01.244Z"
   },
   {
    "duration": 24,
    "start_time": "2022-03-11T21:12:01.317Z"
   },
   {
    "duration": 366,
    "start_time": "2022-03-11T21:12:01.344Z"
   },
   {
    "duration": 654,
    "start_time": "2022-03-11T21:12:01.712Z"
   },
   {
    "duration": 726,
    "start_time": "2022-03-11T21:12:02.371Z"
   },
   {
    "duration": 4,
    "start_time": "2022-03-11T21:12:03.101Z"
   },
   {
    "duration": 612,
    "start_time": "2022-03-11T21:12:03.108Z"
   },
   {
    "duration": 695,
    "start_time": "2022-03-11T21:12:03.723Z"
   },
   {
    "duration": 1183,
    "start_time": "2022-03-11T21:12:04.420Z"
   },
   {
    "duration": 7,
    "start_time": "2022-03-11T21:12:05.605Z"
   },
   {
    "duration": 519,
    "start_time": "2022-03-11T21:12:05.615Z"
   },
   {
    "duration": 628,
    "start_time": "2022-03-11T21:12:06.137Z"
   },
   {
    "duration": 25,
    "start_time": "2022-03-11T21:12:06.768Z"
   },
   {
    "duration": 2458,
    "start_time": "2022-03-11T21:12:06.795Z"
   },
   {
    "duration": 139,
    "start_time": "2022-03-11T21:12:09.256Z"
   },
   {
    "duration": 26,
    "start_time": "2022-03-11T21:12:09.397Z"
   },
   {
    "duration": 21,
    "start_time": "2022-03-11T21:12:09.426Z"
   }
  ],
  "kernelspec": {
   "display_name": "Python 3 (ipykernel)",
   "language": "python",
   "name": "python3"
  },
  "language_info": {
   "codemirror_mode": {
    "name": "ipython",
    "version": 3
   },
   "file_extension": ".py",
   "mimetype": "text/x-python",
   "name": "python",
   "nbconvert_exporter": "python",
   "pygments_lexer": "ipython3",
   "version": "3.9.5"
  },
  "toc": {
   "base_numbering": 1,
   "nav_menu": {},
   "number_sections": true,
   "sideBar": true,
   "skip_h1_title": true,
   "title_cell": "Содержание",
   "title_sidebar": "Contents",
   "toc_cell": true,
   "toc_position": {
    "height": "calc(100% - 180px)",
    "left": "10px",
    "top": "150px",
    "width": "334.6px"
   },
   "toc_section_display": true,
   "toc_window_display": false
  }
 },
 "nbformat": 4,
 "nbformat_minor": 2
}
